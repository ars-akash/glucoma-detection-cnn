{
  "nbformat": 4,
  "nbformat_minor": 0,
  "metadata": {
    "colab": {
      "provenance": [],
      "authorship_tag": "ABX9TyN9wdpeN4oGVYm5pkJ+87zg",
      "include_colab_link": true
    },
    "kernelspec": {
      "name": "python3",
      "display_name": "Python 3"
    },
    "language_info": {
      "name": "python"
    },
    "accelerator": "GPU",
    "widgets": {
      "application/vnd.jupyter.widget-state+json": {
        "fa2f06861ab14bc8ad716dcd38dba9d4": {
          "model_module": "@jupyter-widgets/controls",
          "model_name": "HBoxModel",
          "model_module_version": "1.5.0",
          "state": {
            "_dom_classes": [],
            "_model_module": "@jupyter-widgets/controls",
            "_model_module_version": "1.5.0",
            "_model_name": "HBoxModel",
            "_view_count": null,
            "_view_module": "@jupyter-widgets/controls",
            "_view_module_version": "1.5.0",
            "_view_name": "HBoxView",
            "box_style": "",
            "children": [
              "IPY_MODEL_e1352e48a92f4597b3c5c5b5cadee6b0",
              "IPY_MODEL_61bfec89984440a292c4103a3b9526a9",
              "IPY_MODEL_e2e95bbf419142f3bb0ad1c091020407"
            ],
            "layout": "IPY_MODEL_3dce1e27b70e475c8a14e3a890d905de"
          }
        },
        "e1352e48a92f4597b3c5c5b5cadee6b0": {
          "model_module": "@jupyter-widgets/controls",
          "model_name": "HTMLModel",
          "model_module_version": "1.5.0",
          "state": {
            "_dom_classes": [],
            "_model_module": "@jupyter-widgets/controls",
            "_model_module_version": "1.5.0",
            "_model_name": "HTMLModel",
            "_view_count": null,
            "_view_module": "@jupyter-widgets/controls",
            "_view_module_version": "1.5.0",
            "_view_name": "HTMLView",
            "description": "",
            "description_tooltip": null,
            "layout": "IPY_MODEL_d6091fdf57df40699af0e65677a61c48",
            "placeholder": "​",
            "style": "IPY_MODEL_0a2dd911444f4aef97bbe5ae32957ef6",
            "value": "100%"
          }
        },
        "61bfec89984440a292c4103a3b9526a9": {
          "model_module": "@jupyter-widgets/controls",
          "model_name": "FloatProgressModel",
          "model_module_version": "1.5.0",
          "state": {
            "_dom_classes": [],
            "_model_module": "@jupyter-widgets/controls",
            "_model_module_version": "1.5.0",
            "_model_name": "FloatProgressModel",
            "_view_count": null,
            "_view_module": "@jupyter-widgets/controls",
            "_view_module_version": "1.5.0",
            "_view_name": "ProgressView",
            "bar_style": "success",
            "description": "",
            "description_tooltip": null,
            "layout": "IPY_MODEL_63864771f3e24aeb853949c46d30ddda",
            "max": 444,
            "min": 0,
            "orientation": "horizontal",
            "style": "IPY_MODEL_0185983114064087929fd5c22a65292d",
            "value": 444
          }
        },
        "e2e95bbf419142f3bb0ad1c091020407": {
          "model_module": "@jupyter-widgets/controls",
          "model_name": "HTMLModel",
          "model_module_version": "1.5.0",
          "state": {
            "_dom_classes": [],
            "_model_module": "@jupyter-widgets/controls",
            "_model_module_version": "1.5.0",
            "_model_name": "HTMLModel",
            "_view_count": null,
            "_view_module": "@jupyter-widgets/controls",
            "_view_module_version": "1.5.0",
            "_view_name": "HTMLView",
            "description": "",
            "description_tooltip": null,
            "layout": "IPY_MODEL_e8adcaf587f846059b80f2c23a7067da",
            "placeholder": "​",
            "style": "IPY_MODEL_90dab4e5c18a403e8dc5d11cfb0aca27",
            "value": " 444/444 [00:02&lt;00:00, 182.09it/s]"
          }
        },
        "3dce1e27b70e475c8a14e3a890d905de": {
          "model_module": "@jupyter-widgets/base",
          "model_name": "LayoutModel",
          "model_module_version": "1.2.0",
          "state": {
            "_model_module": "@jupyter-widgets/base",
            "_model_module_version": "1.2.0",
            "_model_name": "LayoutModel",
            "_view_count": null,
            "_view_module": "@jupyter-widgets/base",
            "_view_module_version": "1.2.0",
            "_view_name": "LayoutView",
            "align_content": null,
            "align_items": null,
            "align_self": null,
            "border": null,
            "bottom": null,
            "display": null,
            "flex": null,
            "flex_flow": null,
            "grid_area": null,
            "grid_auto_columns": null,
            "grid_auto_flow": null,
            "grid_auto_rows": null,
            "grid_column": null,
            "grid_gap": null,
            "grid_row": null,
            "grid_template_areas": null,
            "grid_template_columns": null,
            "grid_template_rows": null,
            "height": null,
            "justify_content": null,
            "justify_items": null,
            "left": null,
            "margin": null,
            "max_height": null,
            "max_width": null,
            "min_height": null,
            "min_width": null,
            "object_fit": null,
            "object_position": null,
            "order": null,
            "overflow": null,
            "overflow_x": null,
            "overflow_y": null,
            "padding": null,
            "right": null,
            "top": null,
            "visibility": null,
            "width": null
          }
        },
        "d6091fdf57df40699af0e65677a61c48": {
          "model_module": "@jupyter-widgets/base",
          "model_name": "LayoutModel",
          "model_module_version": "1.2.0",
          "state": {
            "_model_module": "@jupyter-widgets/base",
            "_model_module_version": "1.2.0",
            "_model_name": "LayoutModel",
            "_view_count": null,
            "_view_module": "@jupyter-widgets/base",
            "_view_module_version": "1.2.0",
            "_view_name": "LayoutView",
            "align_content": null,
            "align_items": null,
            "align_self": null,
            "border": null,
            "bottom": null,
            "display": null,
            "flex": null,
            "flex_flow": null,
            "grid_area": null,
            "grid_auto_columns": null,
            "grid_auto_flow": null,
            "grid_auto_rows": null,
            "grid_column": null,
            "grid_gap": null,
            "grid_row": null,
            "grid_template_areas": null,
            "grid_template_columns": null,
            "grid_template_rows": null,
            "height": null,
            "justify_content": null,
            "justify_items": null,
            "left": null,
            "margin": null,
            "max_height": null,
            "max_width": null,
            "min_height": null,
            "min_width": null,
            "object_fit": null,
            "object_position": null,
            "order": null,
            "overflow": null,
            "overflow_x": null,
            "overflow_y": null,
            "padding": null,
            "right": null,
            "top": null,
            "visibility": null,
            "width": null
          }
        },
        "0a2dd911444f4aef97bbe5ae32957ef6": {
          "model_module": "@jupyter-widgets/controls",
          "model_name": "DescriptionStyleModel",
          "model_module_version": "1.5.0",
          "state": {
            "_model_module": "@jupyter-widgets/controls",
            "_model_module_version": "1.5.0",
            "_model_name": "DescriptionStyleModel",
            "_view_count": null,
            "_view_module": "@jupyter-widgets/base",
            "_view_module_version": "1.2.0",
            "_view_name": "StyleView",
            "description_width": ""
          }
        },
        "63864771f3e24aeb853949c46d30ddda": {
          "model_module": "@jupyter-widgets/base",
          "model_name": "LayoutModel",
          "model_module_version": "1.2.0",
          "state": {
            "_model_module": "@jupyter-widgets/base",
            "_model_module_version": "1.2.0",
            "_model_name": "LayoutModel",
            "_view_count": null,
            "_view_module": "@jupyter-widgets/base",
            "_view_module_version": "1.2.0",
            "_view_name": "LayoutView",
            "align_content": null,
            "align_items": null,
            "align_self": null,
            "border": null,
            "bottom": null,
            "display": null,
            "flex": null,
            "flex_flow": null,
            "grid_area": null,
            "grid_auto_columns": null,
            "grid_auto_flow": null,
            "grid_auto_rows": null,
            "grid_column": null,
            "grid_gap": null,
            "grid_row": null,
            "grid_template_areas": null,
            "grid_template_columns": null,
            "grid_template_rows": null,
            "height": null,
            "justify_content": null,
            "justify_items": null,
            "left": null,
            "margin": null,
            "max_height": null,
            "max_width": null,
            "min_height": null,
            "min_width": null,
            "object_fit": null,
            "object_position": null,
            "order": null,
            "overflow": null,
            "overflow_x": null,
            "overflow_y": null,
            "padding": null,
            "right": null,
            "top": null,
            "visibility": null,
            "width": null
          }
        },
        "0185983114064087929fd5c22a65292d": {
          "model_module": "@jupyter-widgets/controls",
          "model_name": "ProgressStyleModel",
          "model_module_version": "1.5.0",
          "state": {
            "_model_module": "@jupyter-widgets/controls",
            "_model_module_version": "1.5.0",
            "_model_name": "ProgressStyleModel",
            "_view_count": null,
            "_view_module": "@jupyter-widgets/base",
            "_view_module_version": "1.2.0",
            "_view_name": "StyleView",
            "bar_color": null,
            "description_width": ""
          }
        },
        "e8adcaf587f846059b80f2c23a7067da": {
          "model_module": "@jupyter-widgets/base",
          "model_name": "LayoutModel",
          "model_module_version": "1.2.0",
          "state": {
            "_model_module": "@jupyter-widgets/base",
            "_model_module_version": "1.2.0",
            "_model_name": "LayoutModel",
            "_view_count": null,
            "_view_module": "@jupyter-widgets/base",
            "_view_module_version": "1.2.0",
            "_view_name": "LayoutView",
            "align_content": null,
            "align_items": null,
            "align_self": null,
            "border": null,
            "bottom": null,
            "display": null,
            "flex": null,
            "flex_flow": null,
            "grid_area": null,
            "grid_auto_columns": null,
            "grid_auto_flow": null,
            "grid_auto_rows": null,
            "grid_column": null,
            "grid_gap": null,
            "grid_row": null,
            "grid_template_areas": null,
            "grid_template_columns": null,
            "grid_template_rows": null,
            "height": null,
            "justify_content": null,
            "justify_items": null,
            "left": null,
            "margin": null,
            "max_height": null,
            "max_width": null,
            "min_height": null,
            "min_width": null,
            "object_fit": null,
            "object_position": null,
            "order": null,
            "overflow": null,
            "overflow_x": null,
            "overflow_y": null,
            "padding": null,
            "right": null,
            "top": null,
            "visibility": null,
            "width": null
          }
        },
        "90dab4e5c18a403e8dc5d11cfb0aca27": {
          "model_module": "@jupyter-widgets/controls",
          "model_name": "DescriptionStyleModel",
          "model_module_version": "1.5.0",
          "state": {
            "_model_module": "@jupyter-widgets/controls",
            "_model_module_version": "1.5.0",
            "_model_name": "DescriptionStyleModel",
            "_view_count": null,
            "_view_module": "@jupyter-widgets/base",
            "_view_module_version": "1.2.0",
            "_view_name": "StyleView",
            "description_width": ""
          }
        },
        "0fa55199cada4178a8a7eb469ed652e8": {
          "model_module": "@jupyter-widgets/controls",
          "model_name": "HBoxModel",
          "model_module_version": "1.5.0",
          "state": {
            "_dom_classes": [],
            "_model_module": "@jupyter-widgets/controls",
            "_model_module_version": "1.5.0",
            "_model_name": "HBoxModel",
            "_view_count": null,
            "_view_module": "@jupyter-widgets/controls",
            "_view_module_version": "1.5.0",
            "_view_name": "HBoxView",
            "box_style": "",
            "children": [
              "IPY_MODEL_a428f1bb0d6a437caaf4bd94a7c1c509",
              "IPY_MODEL_c27f6b2c04eb4f8097c378b3e68dbc74",
              "IPY_MODEL_698b22fe70bc408dbcb877ab251768d3"
            ],
            "layout": "IPY_MODEL_67012a8a23a54b71bc2ffc9a1f6803df"
          }
        },
        "a428f1bb0d6a437caaf4bd94a7c1c509": {
          "model_module": "@jupyter-widgets/controls",
          "model_name": "HTMLModel",
          "model_module_version": "1.5.0",
          "state": {
            "_dom_classes": [],
            "_model_module": "@jupyter-widgets/controls",
            "_model_module_version": "1.5.0",
            "_model_name": "HTMLModel",
            "_view_count": null,
            "_view_module": "@jupyter-widgets/controls",
            "_view_module_version": "1.5.0",
            "_view_name": "HTMLView",
            "description": "",
            "description_tooltip": null,
            "layout": "IPY_MODEL_898add8ece8c4e148e4df3f40f70fd94",
            "placeholder": "​",
            "style": "IPY_MODEL_18e4603cff3047a4ab40d4918ee23388",
            "value": "100%"
          }
        },
        "c27f6b2c04eb4f8097c378b3e68dbc74": {
          "model_module": "@jupyter-widgets/controls",
          "model_name": "FloatProgressModel",
          "model_module_version": "1.5.0",
          "state": {
            "_dom_classes": [],
            "_model_module": "@jupyter-widgets/controls",
            "_model_module_version": "1.5.0",
            "_model_name": "FloatProgressModel",
            "_view_count": null,
            "_view_module": "@jupyter-widgets/controls",
            "_view_module_version": "1.5.0",
            "_view_name": "ProgressView",
            "bar_style": "success",
            "description": "",
            "description_tooltip": null,
            "layout": "IPY_MODEL_c51aac8d68f045f4bbb04285415228dd",
            "max": 74,
            "min": 0,
            "orientation": "horizontal",
            "style": "IPY_MODEL_f834b13cf83a4db38c060393c5f2cbe9",
            "value": 74
          }
        },
        "698b22fe70bc408dbcb877ab251768d3": {
          "model_module": "@jupyter-widgets/controls",
          "model_name": "HTMLModel",
          "model_module_version": "1.5.0",
          "state": {
            "_dom_classes": [],
            "_model_module": "@jupyter-widgets/controls",
            "_model_module_version": "1.5.0",
            "_model_name": "HTMLModel",
            "_view_count": null,
            "_view_module": "@jupyter-widgets/controls",
            "_view_module_version": "1.5.0",
            "_view_name": "HTMLView",
            "description": "",
            "description_tooltip": null,
            "layout": "IPY_MODEL_dbd36d611bff479d94ceb040ad0c0e26",
            "placeholder": "​",
            "style": "IPY_MODEL_3e7567a5b8fd4725bb9080f3da2be518",
            "value": " 74/74 [00:09&lt;00:00,  8.84it/s]"
          }
        },
        "67012a8a23a54b71bc2ffc9a1f6803df": {
          "model_module": "@jupyter-widgets/base",
          "model_name": "LayoutModel",
          "model_module_version": "1.2.0",
          "state": {
            "_model_module": "@jupyter-widgets/base",
            "_model_module_version": "1.2.0",
            "_model_name": "LayoutModel",
            "_view_count": null,
            "_view_module": "@jupyter-widgets/base",
            "_view_module_version": "1.2.0",
            "_view_name": "LayoutView",
            "align_content": null,
            "align_items": null,
            "align_self": null,
            "border": null,
            "bottom": null,
            "display": null,
            "flex": null,
            "flex_flow": null,
            "grid_area": null,
            "grid_auto_columns": null,
            "grid_auto_flow": null,
            "grid_auto_rows": null,
            "grid_column": null,
            "grid_gap": null,
            "grid_row": null,
            "grid_template_areas": null,
            "grid_template_columns": null,
            "grid_template_rows": null,
            "height": null,
            "justify_content": null,
            "justify_items": null,
            "left": null,
            "margin": null,
            "max_height": null,
            "max_width": null,
            "min_height": null,
            "min_width": null,
            "object_fit": null,
            "object_position": null,
            "order": null,
            "overflow": null,
            "overflow_x": null,
            "overflow_y": null,
            "padding": null,
            "right": null,
            "top": null,
            "visibility": null,
            "width": null
          }
        },
        "898add8ece8c4e148e4df3f40f70fd94": {
          "model_module": "@jupyter-widgets/base",
          "model_name": "LayoutModel",
          "model_module_version": "1.2.0",
          "state": {
            "_model_module": "@jupyter-widgets/base",
            "_model_module_version": "1.2.0",
            "_model_name": "LayoutModel",
            "_view_count": null,
            "_view_module": "@jupyter-widgets/base",
            "_view_module_version": "1.2.0",
            "_view_name": "LayoutView",
            "align_content": null,
            "align_items": null,
            "align_self": null,
            "border": null,
            "bottom": null,
            "display": null,
            "flex": null,
            "flex_flow": null,
            "grid_area": null,
            "grid_auto_columns": null,
            "grid_auto_flow": null,
            "grid_auto_rows": null,
            "grid_column": null,
            "grid_gap": null,
            "grid_row": null,
            "grid_template_areas": null,
            "grid_template_columns": null,
            "grid_template_rows": null,
            "height": null,
            "justify_content": null,
            "justify_items": null,
            "left": null,
            "margin": null,
            "max_height": null,
            "max_width": null,
            "min_height": null,
            "min_width": null,
            "object_fit": null,
            "object_position": null,
            "order": null,
            "overflow": null,
            "overflow_x": null,
            "overflow_y": null,
            "padding": null,
            "right": null,
            "top": null,
            "visibility": null,
            "width": null
          }
        },
        "18e4603cff3047a4ab40d4918ee23388": {
          "model_module": "@jupyter-widgets/controls",
          "model_name": "DescriptionStyleModel",
          "model_module_version": "1.5.0",
          "state": {
            "_model_module": "@jupyter-widgets/controls",
            "_model_module_version": "1.5.0",
            "_model_name": "DescriptionStyleModel",
            "_view_count": null,
            "_view_module": "@jupyter-widgets/base",
            "_view_module_version": "1.2.0",
            "_view_name": "StyleView",
            "description_width": ""
          }
        },
        "c51aac8d68f045f4bbb04285415228dd": {
          "model_module": "@jupyter-widgets/base",
          "model_name": "LayoutModel",
          "model_module_version": "1.2.0",
          "state": {
            "_model_module": "@jupyter-widgets/base",
            "_model_module_version": "1.2.0",
            "_model_name": "LayoutModel",
            "_view_count": null,
            "_view_module": "@jupyter-widgets/base",
            "_view_module_version": "1.2.0",
            "_view_name": "LayoutView",
            "align_content": null,
            "align_items": null,
            "align_self": null,
            "border": null,
            "bottom": null,
            "display": null,
            "flex": null,
            "flex_flow": null,
            "grid_area": null,
            "grid_auto_columns": null,
            "grid_auto_flow": null,
            "grid_auto_rows": null,
            "grid_column": null,
            "grid_gap": null,
            "grid_row": null,
            "grid_template_areas": null,
            "grid_template_columns": null,
            "grid_template_rows": null,
            "height": null,
            "justify_content": null,
            "justify_items": null,
            "left": null,
            "margin": null,
            "max_height": null,
            "max_width": null,
            "min_height": null,
            "min_width": null,
            "object_fit": null,
            "object_position": null,
            "order": null,
            "overflow": null,
            "overflow_x": null,
            "overflow_y": null,
            "padding": null,
            "right": null,
            "top": null,
            "visibility": null,
            "width": null
          }
        },
        "f834b13cf83a4db38c060393c5f2cbe9": {
          "model_module": "@jupyter-widgets/controls",
          "model_name": "ProgressStyleModel",
          "model_module_version": "1.5.0",
          "state": {
            "_model_module": "@jupyter-widgets/controls",
            "_model_module_version": "1.5.0",
            "_model_name": "ProgressStyleModel",
            "_view_count": null,
            "_view_module": "@jupyter-widgets/base",
            "_view_module_version": "1.2.0",
            "_view_name": "StyleView",
            "bar_color": null,
            "description_width": ""
          }
        },
        "dbd36d611bff479d94ceb040ad0c0e26": {
          "model_module": "@jupyter-widgets/base",
          "model_name": "LayoutModel",
          "model_module_version": "1.2.0",
          "state": {
            "_model_module": "@jupyter-widgets/base",
            "_model_module_version": "1.2.0",
            "_model_name": "LayoutModel",
            "_view_count": null,
            "_view_module": "@jupyter-widgets/base",
            "_view_module_version": "1.2.0",
            "_view_name": "LayoutView",
            "align_content": null,
            "align_items": null,
            "align_self": null,
            "border": null,
            "bottom": null,
            "display": null,
            "flex": null,
            "flex_flow": null,
            "grid_area": null,
            "grid_auto_columns": null,
            "grid_auto_flow": null,
            "grid_auto_rows": null,
            "grid_column": null,
            "grid_gap": null,
            "grid_row": null,
            "grid_template_areas": null,
            "grid_template_columns": null,
            "grid_template_rows": null,
            "height": null,
            "justify_content": null,
            "justify_items": null,
            "left": null,
            "margin": null,
            "max_height": null,
            "max_width": null,
            "min_height": null,
            "min_width": null,
            "object_fit": null,
            "object_position": null,
            "order": null,
            "overflow": null,
            "overflow_x": null,
            "overflow_y": null,
            "padding": null,
            "right": null,
            "top": null,
            "visibility": null,
            "width": null
          }
        },
        "3e7567a5b8fd4725bb9080f3da2be518": {
          "model_module": "@jupyter-widgets/controls",
          "model_name": "DescriptionStyleModel",
          "model_module_version": "1.5.0",
          "state": {
            "_model_module": "@jupyter-widgets/controls",
            "_model_module_version": "1.5.0",
            "_model_name": "DescriptionStyleModel",
            "_view_count": null,
            "_view_module": "@jupyter-widgets/base",
            "_view_module_version": "1.2.0",
            "_view_name": "StyleView",
            "description_width": ""
          }
        },
        "96f5df3a8086407183f084314cb13068": {
          "model_module": "@jupyter-widgets/controls",
          "model_name": "HBoxModel",
          "model_module_version": "1.5.0",
          "state": {
            "_dom_classes": [],
            "_model_module": "@jupyter-widgets/controls",
            "_model_module_version": "1.5.0",
            "_model_name": "HBoxModel",
            "_view_count": null,
            "_view_module": "@jupyter-widgets/controls",
            "_view_module_version": "1.5.0",
            "_view_name": "HBoxView",
            "box_style": "",
            "children": [
              "IPY_MODEL_24853a20a59641d9b346542d89798261",
              "IPY_MODEL_6fb68235e5ac4d1397f68c21e0c0641f",
              "IPY_MODEL_30bb352c80bb4e7ba8df587cc898626d"
            ],
            "layout": "IPY_MODEL_cee17c105683466eadcb453d2c14bf7f"
          }
        },
        "24853a20a59641d9b346542d89798261": {
          "model_module": "@jupyter-widgets/controls",
          "model_name": "HTMLModel",
          "model_module_version": "1.5.0",
          "state": {
            "_dom_classes": [],
            "_model_module": "@jupyter-widgets/controls",
            "_model_module_version": "1.5.0",
            "_model_name": "HTMLModel",
            "_view_count": null,
            "_view_module": "@jupyter-widgets/controls",
            "_view_module_version": "1.5.0",
            "_view_name": "HTMLView",
            "description": "",
            "description_tooltip": null,
            "layout": "IPY_MODEL_1601abf24c204c96a3deb93b3f876ac6",
            "placeholder": "​",
            "style": "IPY_MODEL_159d6108b9274d4c9447a98a0f9d4e8e",
            "value": "100%"
          }
        },
        "6fb68235e5ac4d1397f68c21e0c0641f": {
          "model_module": "@jupyter-widgets/controls",
          "model_name": "FloatProgressModel",
          "model_module_version": "1.5.0",
          "state": {
            "_dom_classes": [],
            "_model_module": "@jupyter-widgets/controls",
            "_model_module_version": "1.5.0",
            "_model_name": "FloatProgressModel",
            "_view_count": null,
            "_view_module": "@jupyter-widgets/controls",
            "_view_module_version": "1.5.0",
            "_view_name": "ProgressView",
            "bar_style": "success",
            "description": "",
            "description_tooltip": null,
            "layout": "IPY_MODEL_fd61cb177c4b4b33a5bdf92541a41da4",
            "max": 85,
            "min": 0,
            "orientation": "horizontal",
            "style": "IPY_MODEL_542b02f0034f4b0c990a5f04db126a36",
            "value": 85
          }
        },
        "30bb352c80bb4e7ba8df587cc898626d": {
          "model_module": "@jupyter-widgets/controls",
          "model_name": "HTMLModel",
          "model_module_version": "1.5.0",
          "state": {
            "_dom_classes": [],
            "_model_module": "@jupyter-widgets/controls",
            "_model_module_version": "1.5.0",
            "_model_name": "HTMLModel",
            "_view_count": null,
            "_view_module": "@jupyter-widgets/controls",
            "_view_module_version": "1.5.0",
            "_view_name": "HTMLView",
            "description": "",
            "description_tooltip": null,
            "layout": "IPY_MODEL_4921b5b0fd9c4e6da92244065551b294",
            "placeholder": "​",
            "style": "IPY_MODEL_5d7e6131ae674d329e697f273496cf8f",
            "value": " 85/85 [00:09&lt;00:00,  9.08it/s]"
          }
        },
        "cee17c105683466eadcb453d2c14bf7f": {
          "model_module": "@jupyter-widgets/base",
          "model_name": "LayoutModel",
          "model_module_version": "1.2.0",
          "state": {
            "_model_module": "@jupyter-widgets/base",
            "_model_module_version": "1.2.0",
            "_model_name": "LayoutModel",
            "_view_count": null,
            "_view_module": "@jupyter-widgets/base",
            "_view_module_version": "1.2.0",
            "_view_name": "LayoutView",
            "align_content": null,
            "align_items": null,
            "align_self": null,
            "border": null,
            "bottom": null,
            "display": null,
            "flex": null,
            "flex_flow": null,
            "grid_area": null,
            "grid_auto_columns": null,
            "grid_auto_flow": null,
            "grid_auto_rows": null,
            "grid_column": null,
            "grid_gap": null,
            "grid_row": null,
            "grid_template_areas": null,
            "grid_template_columns": null,
            "grid_template_rows": null,
            "height": null,
            "justify_content": null,
            "justify_items": null,
            "left": null,
            "margin": null,
            "max_height": null,
            "max_width": null,
            "min_height": null,
            "min_width": null,
            "object_fit": null,
            "object_position": null,
            "order": null,
            "overflow": null,
            "overflow_x": null,
            "overflow_y": null,
            "padding": null,
            "right": null,
            "top": null,
            "visibility": null,
            "width": null
          }
        },
        "1601abf24c204c96a3deb93b3f876ac6": {
          "model_module": "@jupyter-widgets/base",
          "model_name": "LayoutModel",
          "model_module_version": "1.2.0",
          "state": {
            "_model_module": "@jupyter-widgets/base",
            "_model_module_version": "1.2.0",
            "_model_name": "LayoutModel",
            "_view_count": null,
            "_view_module": "@jupyter-widgets/base",
            "_view_module_version": "1.2.0",
            "_view_name": "LayoutView",
            "align_content": null,
            "align_items": null,
            "align_self": null,
            "border": null,
            "bottom": null,
            "display": null,
            "flex": null,
            "flex_flow": null,
            "grid_area": null,
            "grid_auto_columns": null,
            "grid_auto_flow": null,
            "grid_auto_rows": null,
            "grid_column": null,
            "grid_gap": null,
            "grid_row": null,
            "grid_template_areas": null,
            "grid_template_columns": null,
            "grid_template_rows": null,
            "height": null,
            "justify_content": null,
            "justify_items": null,
            "left": null,
            "margin": null,
            "max_height": null,
            "max_width": null,
            "min_height": null,
            "min_width": null,
            "object_fit": null,
            "object_position": null,
            "order": null,
            "overflow": null,
            "overflow_x": null,
            "overflow_y": null,
            "padding": null,
            "right": null,
            "top": null,
            "visibility": null,
            "width": null
          }
        },
        "159d6108b9274d4c9447a98a0f9d4e8e": {
          "model_module": "@jupyter-widgets/controls",
          "model_name": "DescriptionStyleModel",
          "model_module_version": "1.5.0",
          "state": {
            "_model_module": "@jupyter-widgets/controls",
            "_model_module_version": "1.5.0",
            "_model_name": "DescriptionStyleModel",
            "_view_count": null,
            "_view_module": "@jupyter-widgets/base",
            "_view_module_version": "1.2.0",
            "_view_name": "StyleView",
            "description_width": ""
          }
        },
        "fd61cb177c4b4b33a5bdf92541a41da4": {
          "model_module": "@jupyter-widgets/base",
          "model_name": "LayoutModel",
          "model_module_version": "1.2.0",
          "state": {
            "_model_module": "@jupyter-widgets/base",
            "_model_module_version": "1.2.0",
            "_model_name": "LayoutModel",
            "_view_count": null,
            "_view_module": "@jupyter-widgets/base",
            "_view_module_version": "1.2.0",
            "_view_name": "LayoutView",
            "align_content": null,
            "align_items": null,
            "align_self": null,
            "border": null,
            "bottom": null,
            "display": null,
            "flex": null,
            "flex_flow": null,
            "grid_area": null,
            "grid_auto_columns": null,
            "grid_auto_flow": null,
            "grid_auto_rows": null,
            "grid_column": null,
            "grid_gap": null,
            "grid_row": null,
            "grid_template_areas": null,
            "grid_template_columns": null,
            "grid_template_rows": null,
            "height": null,
            "justify_content": null,
            "justify_items": null,
            "left": null,
            "margin": null,
            "max_height": null,
            "max_width": null,
            "min_height": null,
            "min_width": null,
            "object_fit": null,
            "object_position": null,
            "order": null,
            "overflow": null,
            "overflow_x": null,
            "overflow_y": null,
            "padding": null,
            "right": null,
            "top": null,
            "visibility": null,
            "width": null
          }
        },
        "542b02f0034f4b0c990a5f04db126a36": {
          "model_module": "@jupyter-widgets/controls",
          "model_name": "ProgressStyleModel",
          "model_module_version": "1.5.0",
          "state": {
            "_model_module": "@jupyter-widgets/controls",
            "_model_module_version": "1.5.0",
            "_model_name": "ProgressStyleModel",
            "_view_count": null,
            "_view_module": "@jupyter-widgets/base",
            "_view_module_version": "1.2.0",
            "_view_name": "StyleView",
            "bar_color": null,
            "description_width": ""
          }
        },
        "4921b5b0fd9c4e6da92244065551b294": {
          "model_module": "@jupyter-widgets/base",
          "model_name": "LayoutModel",
          "model_module_version": "1.2.0",
          "state": {
            "_model_module": "@jupyter-widgets/base",
            "_model_module_version": "1.2.0",
            "_model_name": "LayoutModel",
            "_view_count": null,
            "_view_module": "@jupyter-widgets/base",
            "_view_module_version": "1.2.0",
            "_view_name": "LayoutView",
            "align_content": null,
            "align_items": null,
            "align_self": null,
            "border": null,
            "bottom": null,
            "display": null,
            "flex": null,
            "flex_flow": null,
            "grid_area": null,
            "grid_auto_columns": null,
            "grid_auto_flow": null,
            "grid_auto_rows": null,
            "grid_column": null,
            "grid_gap": null,
            "grid_row": null,
            "grid_template_areas": null,
            "grid_template_columns": null,
            "grid_template_rows": null,
            "height": null,
            "justify_content": null,
            "justify_items": null,
            "left": null,
            "margin": null,
            "max_height": null,
            "max_width": null,
            "min_height": null,
            "min_width": null,
            "object_fit": null,
            "object_position": null,
            "order": null,
            "overflow": null,
            "overflow_x": null,
            "overflow_y": null,
            "padding": null,
            "right": null,
            "top": null,
            "visibility": null,
            "width": null
          }
        },
        "5d7e6131ae674d329e697f273496cf8f": {
          "model_module": "@jupyter-widgets/controls",
          "model_name": "DescriptionStyleModel",
          "model_module_version": "1.5.0",
          "state": {
            "_model_module": "@jupyter-widgets/controls",
            "_model_module_version": "1.5.0",
            "_model_name": "DescriptionStyleModel",
            "_view_count": null,
            "_view_module": "@jupyter-widgets/base",
            "_view_module_version": "1.2.0",
            "_view_name": "StyleView",
            "description_width": ""
          }
        }
      }
    }
  },
  "cells": [
    {
      "cell_type": "markdown",
      "metadata": {
        "id": "view-in-github",
        "colab_type": "text"
      },
      "source": [
        "<a href=\"https://colab.research.google.com/github/ars-akash/glucoma-detection-cnn/blob/main/unet_remon.ipynb\" target=\"_parent\"><img src=\"https://colab.research.google.com/assets/colab-badge.svg\" alt=\"Open In Colab\"/></a>"
      ]
    },
    {
      "cell_type": "code",
      "execution_count": null,
      "metadata": {
        "id": "KMRHHQCtyKLO"
      },
      "outputs": [],
      "source": [
        "import os\n",
        "import IPython.display as ipd\n",
        "import matplotlib.pyplot as plt#graph plotting\n",
        "import numpy as np#Array or Multi dimi. arrays\n",
        "import pandas as pd#Reading files and sving it as tablur format\n",
        "import time\n",
        "from collections import Counter, OrderedDict#[1,2,3,3]\n",
        "import cv2#opencv - python - Image processing- short form -cv2\n",
        "from google.colab.patches import cv2_imshow#Is used for printing the images\n",
        "import random#Generating random variables or values\n",
        "import seaborn as sns#graph plotting\n",
        "from natsort import natsorted\n",
        "from scipy.ndimage import rotate\n",
        "\n",
        "#sklearn - scikit-learn - form machine learning algorithms\n",
        "from sklearn.preprocessing import LabelEncoder\n",
        "from sklearn.model_selection import cross_val_score\n",
        "from sklearn.model_selection import train_test_split\n",
        "from sklearn import metrics\n",
        "from sklearn.utils import class_weight\n",
        "from sklearn.utils.class_weight import compute_class_weight\n",
        " \n",
        "\n",
        "import tensorflow as tf\n",
        "import keras \n",
        "from keras.utils.np_utils import to_categorical\n",
        "from keras.models import Sequential\n",
        "from keras.layers import Dense, Dropout, Flatten, Conv2D, Conv1D, UpSampling2D, MaxPooling2D, MaxPooling1D, LeakyReLU, Conv2DTranspose, Concatenate, Conv1DTranspose\n",
        "from tensorflow.keras.optimizers import Adam,SGD,Adagrad,Adadelta,RMSprop,Adamax, Nadam\n",
        "from keras.callbacks import ModelCheckpoint\n",
        "from keras.preprocessing.image import ImageDataGenerator\n",
        "from keras.callbacks import ReduceLROnPlateau\n",
        "from keras.models import load_model\n",
        "from keras.models import Input\n",
        "from keras.layers.merge import concatenate, add\n",
        "#Keras And Tensorflow - Neural Network | Keras-Frontend, Tensorflow - Backend\n",
        "from keras.applications.vgg16 import VGG16\n",
        "from keras.applications.vgg16 import preprocess_input\n",
        "from keras.preprocessing.image import load_img\n",
        "from keras.preprocessing.image import img_to_array\n",
        "from keras.models import Model\n",
        "from keras import backend as K\n",
        "from matplotlib import pyplot\n",
        "from numpy import expand_dims\n",
        " \n",
        "from tqdm import tqdm_notebook as tq # Progressing bar\n",
        "  \n",
        "import warnings\n",
        "warnings.filterwarnings(\"ignore\")\n",
        " \n",
        "import tensorflow as tf\n",
        "try:\n",
        "    from tensorflow.python.util import module_wrapper as deprecation\n",
        "except ImportError:\n",
        "    from tensorflow.python.util import deprecation_wrapper as deprecation\n",
        "deprecation._PER_MODULE_WARNING_LIMIT = 0\n",
        " \n",
        "from tensorflow.python.util import deprecation\n",
        "deprecation._PRINT_DEPRECATION_WARNINGS = False\n",
        "\n",
        "import os\n",
        "import glob\n",
        "from datetime import datetime\n",
        "#import warnings\n",
        "#warnings.simplefilter('ignore')\n",
        "import scipy as sp\n",
        "import scipy.ndimage\n",
        "import numpy as np\n",
        "import pandas as pd\n",
        "import tensorflow as tf\n",
        "import skimage\n",
        "import skimage.exposure\n",
        "from sklearn.model_selection import KFold\n",
        "from PIL import Image\n",
        "import matplotlib.pyplot as plt\n",
        "%matplotlib inline\n",
        "import h5py\n",
        "from tqdm import tqdm_notebook\n",
        "from IPython.display import display\n",
        "import keras, tensorflow\n",
        "from keras.models import Sequential, Model\n",
        "from keras.layers import Dense, Dropout, Activation, Flatten, BatchNormalization, \\\n",
        "    Conv2D, MaxPooling2D, ZeroPadding2D, Input, Embedding, \\\n",
        "    Lambda, UpSampling2D, Cropping2D, Concatenate\n",
        "from keras.utils import np_utils\n",
        "from tensorflow.keras.optimizers import SGD, Adam\n",
        "from keras.callbacks import ModelCheckpoint, LearningRateScheduler, ReduceLROnPlateau, CSVLogger\n",
        "from keras.preprocessing.image import ImageDataGenerator\n",
        "from keras import backend as K"
      ]
    },
    {
      "cell_type": "code",
      "source": [
        "from google.colab import drive\n",
        "drive.mount('/content/drive')"
      ],
      "metadata": {
        "colab": {
          "base_uri": "https://localhost:8080/"
        },
        "id": "5ahVo9ijywFL",
        "outputId": "39b3d935-40b0-4f80-86ef-283ecdf8634e"
      },
      "execution_count": null,
      "outputs": [
        {
          "output_type": "stream",
          "name": "stdout",
          "text": [
            "Mounted at /content/drive\n"
          ]
        }
      ]
    },
    {
      "cell_type": "code",
      "source": [
        "!git clone https://github.com/seva100/optic-nerve-cnn.git"
      ],
      "metadata": {
        "colab": {
          "base_uri": "https://localhost:8080/"
        },
        "id": "hIej1IJozCU8",
        "outputId": "232558c9-ad91-4e4e-a54a-02cdef8ee53f"
      },
      "execution_count": null,
      "outputs": [
        {
          "output_type": "stream",
          "name": "stdout",
          "text": [
            "Cloning into 'optic-nerve-cnn'...\n",
            "remote: Enumerating objects: 7634, done.\u001b[K\n",
            "remote: Counting objects: 100% (3/3), done.\u001b[K\n",
            "remote: Compressing objects: 100% (3/3), done.\u001b[K\n",
            "remote: Total 7634 (delta 0), reused 2 (delta 0), pack-reused 7631\u001b[K\n",
            "Receiving objects: 100% (7634/7634), 706.89 MiB | 29.82 MiB/s, done.\n",
            "Resolving deltas: 100% (3044/3044), done.\n",
            "Checking out files: 100% (7340/7340), done.\n"
          ]
        }
      ]
    },
    {
      "cell_type": "code",
      "source": [
        "K.set_image_data_format('channels_last')\n",
        "\n",
        "def mean_IOU_gpu(X, Y):\n",
        "    \"\"\"Computes mean Intersection-over-Union (IOU) for two arrays of binary images.\n",
        "    Assuming X and Y are of shape (n_images, w, h).\"\"\"\n",
        "    \n",
        "    #X_fl = K.clip(K.batch_flatten(X), K.epsilon(), 1.)\n",
        "    #Y_fl = K.clip(K.batch_flatten(Y), K.epsilon(), 1.)\n",
        "    X_fl = K.clip(K.batch_flatten(X), 0., 1.)\n",
        "    Y_fl = K.clip(K.batch_flatten(Y), 0., 1.)\n",
        "    X_fl = K.cast(K.greater(X_fl, 0.5), 'float32')\n",
        "    Y_fl = K.cast(K.greater(Y_fl, 0.5), 'float32')\n",
        "\n",
        "    intersection = K.sum(X_fl * Y_fl, axis=1)\n",
        "    union = K.sum(K.maximum(X_fl, Y_fl), axis=1)\n",
        "    # if union == 0, it follows that intersection == 0 => score should be 0.\n",
        "    union = K.switch(K.equal(union, 0), K.ones_like(union), union)\n",
        "    return K.mean(intersection / K.cast(union, 'float32'))\n",
        "\n",
        "\n",
        "def mean_IOU_gpu_loss(X, Y):\n",
        "    return -mean_IOU_gpu(X, Y)\n",
        "\n",
        "def dice(y_true, y_pred):\n",
        "    # Workaround for shape bug. For some reason y_true shape was not being set correctly\n",
        "    #y_true.set_shape(y_pred.get_shape())\n",
        "\n",
        "    # Without K.clip, K.sum() behaves differently when compared to np.count_nonzero()\n",
        "    #y_true_f = K.clip(K.batch_flatten(y_true), K.epsilon(), 1.)\n",
        "    #y_pred_f = K.clip(K.batch_flatten(y_pred), K.epsilon(), 1.)\n",
        "    y_true_f = K.clip(K.batch_flatten(y_true), 0., 1.)\n",
        "    y_pred_f = K.clip(K.batch_flatten(y_pred), 0., 1.)\n",
        "    #y_pred_f = K.greater(y_pred_f, 0.5)\n",
        "\n",
        "    intersection = 2 * K.sum(y_true_f * y_pred_f, axis=1)\n",
        "    union = K.sum(y_true_f * y_true_f, axis=1) + K.sum(y_pred_f * y_pred_f, axis=1)\n",
        "    return K.mean(intersection / union)\n",
        "\n",
        "\n",
        "def dice_loss(y_true, y_pred):\n",
        "    return -dice(y_true, y_pred)\n",
        "\n",
        "\n",
        "def log_dice_loss(y_true, y_pred):\n",
        "    return -K.log(dice(y_true, y_pred))\n",
        "\n",
        "\n",
        "def dice_metric(y_true, y_pred):\n",
        "    \"\"\"An exact Dice score for binary tensors.\"\"\"\n",
        "    y_true_f = K.cast(K.greater(y_true, 0.5), 'float32')\n",
        "    y_pred_f = K.cast(K.greater(y_pred, 0.5), 'float32')\n",
        "    return dice(y_true_f, y_pred_f)"
      ],
      "metadata": {
        "id": "y80iz2ogzHHF"
      },
      "execution_count": null,
      "outputs": []
    },
    {
      "cell_type": "code",
      "source": [
        "def unet_l(img_rows=256, img_cols=256):\n",
        "    inputs = Input((3, img_rows, img_cols))\n",
        "    conv1 = Conv2D(64, kernel_size=3, activation='relu', padding='same')(inputs)\n",
        "    conv1 = Dropout(0.3)(conv1)\n",
        "    conv1 = Conv2D(64, kernel_size=3, activation='relu', padding='same')(conv1)\n",
        "    pool1 = MaxPooling2D(pool_size=(2, 2))(conv1)\n",
        "\n",
        "    conv2 = Conv2D(64, kernel_size=3, activation='relu', padding='same')(pool1)\n",
        "    conv2 = Dropout(0.3)(conv2)\n",
        "    conv2 = Conv2D(64, kernel_size=3, activation='relu', padding='same')(conv2)\n",
        "    pool2 = MaxPooling2D(pool_size=(2, 2))(conv2)\n",
        "\n",
        "    conv3 = Conv2D(64, kernel_size=3, activation='relu', padding='same')(pool2)\n",
        "    conv3 = Dropout(0.3)(conv3)\n",
        "    conv3 = Conv2D(64, kernel_size=3, activation='relu', padding='same')(conv3)\n",
        "    pool3 = MaxPooling2D(pool_size=(2, 2))(conv3)\n",
        "\n",
        "    conv4 = Conv2D(64, kernel_size=3, activation='relu', padding='same')(pool3)\n",
        "    conv4 = Dropout(0.3)(conv4)\n",
        "    conv4 = Conv2D(64, kernel_size=3, activation='relu', padding='same')(conv4)\n",
        "    pool4 = MaxPooling2D(pool_size=(2, 2))(conv4)\n",
        "\n",
        "    conv5 = Conv2D(64, kernel_size=3, activation='relu', padding='same')(pool4)\n",
        "    conv5 = Dropout(0.3)(conv5)\n",
        "    conv5 = Conv2D(64, kernel_size=3, activation='relu', padding='same')(conv5)\n",
        "\n",
        "    up6 = Concatenate(axis=1)([UpSampling2D(size=(2, 2))(conv5), conv4])\n",
        "    conv6 = Conv2D(32, kernel_size=3, activation='relu', padding='same')(up6)\n",
        "    conv6 = Dropout(0.3)(conv6)\n",
        "    conv6 = Conv2D(32, kernel_size=3, activation='relu', padding='same')(conv6)\n",
        "\n",
        "    up7 = Concatenate(axis=1)([UpSampling2D(size=(2, 2))(conv6), conv3])\n",
        "    conv7 = Conv2D(32, kernel_size=3, activation='relu', padding='same')(up7)\n",
        "    conv7 = Dropout(0.3)(conv7)\n",
        "    conv7 = Conv2D(32, kernel_size=3, activation='relu', padding='same')(conv7)\n",
        "\n",
        "    up8 = Concatenate(axis=1)([UpSampling2D(size=(2, 2))(conv7), conv2])\n",
        "    conv8 = Conv2D(32, kernel_size=3, activation='relu', padding='same')(up8)\n",
        "    conv8 = Dropout(0.3)(conv8)\n",
        "    conv8 = Conv2D(32, kernel_size=3, activation='relu', padding='same')(conv8)\n",
        "\n",
        "    up9 = Concatenate(axis=1)([UpSampling2D(size=(2, 2))(conv8), conv1])\n",
        "    conv9 = Conv2D(32, kernel_size=3, activation='relu', padding='same')(up9)\n",
        "    conv9 = Dropout(0.3)(conv9)\n",
        "    conv9 = Conv2D(32, kernel_size=3, activation='relu', padding='same')(conv9)\n",
        "\n",
        "    conv10 = Conv2D(1, kernel_size=1, activation='tanh', padding='same')(conv9)\n",
        "    #conv10 = Flatten()(conv10)\n",
        "\n",
        "    model = Model(inputs=inputs, outputs=conv10)\n",
        "\n",
        "    return model"
      ],
      "metadata": {
        "id": "K01sbTdLzSXA"
      },
      "execution_count": null,
      "outputs": []
    },
    {
      "cell_type": "code",
      "source": [
        "model = unet_l(img_rows=256, img_cols=256)\n",
        "model.compile(optimizer=SGD(lr=3e-4, momentum=0.95),\n",
        "              loss=log_dice_loss,\n",
        "              metrics=[mean_IOU_gpu, dice_metric])\n",
        "model.summary()"
      ],
      "metadata": {
        "colab": {
          "base_uri": "https://localhost:8080/"
        },
        "id": "LxvRP6OkzZhL",
        "outputId": "6ad6eaf6-0eb4-4a66-c76e-c5bc7a5f014d"
      },
      "execution_count": null,
      "outputs": [
        {
          "output_type": "stream",
          "name": "stdout",
          "text": [
            "Model: \"model\"\n",
            "__________________________________________________________________________________________________\n",
            " Layer (type)                   Output Shape         Param #     Connected to                     \n",
            "==================================================================================================\n",
            " input_1 (InputLayer)           [(None, 3, 256, 256  0           []                               \n",
            "                                )]                                                                \n",
            "                                                                                                  \n",
            " conv2d (Conv2D)                (None, 64, 256, 256  1792        ['input_1[0][0]']                \n",
            "                                )                                                                 \n",
            "                                                                                                  \n",
            " dropout (Dropout)              (None, 64, 256, 256  0           ['conv2d[0][0]']                 \n",
            "                                )                                                                 \n",
            "                                                                                                  \n",
            " conv2d_1 (Conv2D)              (None, 64, 256, 256  36928       ['dropout[0][0]']                \n",
            "                                )                                                                 \n",
            "                                                                                                  \n",
            " max_pooling2d (MaxPooling2D)   (None, 64, 128, 128  0           ['conv2d_1[0][0]']               \n",
            "                                )                                                                 \n",
            "                                                                                                  \n",
            " conv2d_2 (Conv2D)              (None, 64, 128, 128  36928       ['max_pooling2d[0][0]']          \n",
            "                                )                                                                 \n",
            "                                                                                                  \n",
            " dropout_1 (Dropout)            (None, 64, 128, 128  0           ['conv2d_2[0][0]']               \n",
            "                                )                                                                 \n",
            "                                                                                                  \n",
            " conv2d_3 (Conv2D)              (None, 64, 128, 128  36928       ['dropout_1[0][0]']              \n",
            "                                )                                                                 \n",
            "                                                                                                  \n",
            " max_pooling2d_1 (MaxPooling2D)  (None, 64, 64, 64)  0           ['conv2d_3[0][0]']               \n",
            "                                                                                                  \n",
            " conv2d_4 (Conv2D)              (None, 64, 64, 64)   36928       ['max_pooling2d_1[0][0]']        \n",
            "                                                                                                  \n",
            " dropout_2 (Dropout)            (None, 64, 64, 64)   0           ['conv2d_4[0][0]']               \n",
            "                                                                                                  \n",
            " conv2d_5 (Conv2D)              (None, 64, 64, 64)   36928       ['dropout_2[0][0]']              \n",
            "                                                                                                  \n",
            " max_pooling2d_2 (MaxPooling2D)  (None, 64, 32, 32)  0           ['conv2d_5[0][0]']               \n",
            "                                                                                                  \n",
            " conv2d_6 (Conv2D)              (None, 64, 32, 32)   36928       ['max_pooling2d_2[0][0]']        \n",
            "                                                                                                  \n",
            " dropout_3 (Dropout)            (None, 64, 32, 32)   0           ['conv2d_6[0][0]']               \n",
            "                                                                                                  \n",
            " conv2d_7 (Conv2D)              (None, 64, 32, 32)   36928       ['dropout_3[0][0]']              \n",
            "                                                                                                  \n",
            " max_pooling2d_3 (MaxPooling2D)  (None, 64, 16, 16)  0           ['conv2d_7[0][0]']               \n",
            "                                                                                                  \n",
            " conv2d_8 (Conv2D)              (None, 64, 16, 16)   36928       ['max_pooling2d_3[0][0]']        \n",
            "                                                                                                  \n",
            " dropout_4 (Dropout)            (None, 64, 16, 16)   0           ['conv2d_8[0][0]']               \n",
            "                                                                                                  \n",
            " conv2d_9 (Conv2D)              (None, 64, 16, 16)   36928       ['dropout_4[0][0]']              \n",
            "                                                                                                  \n",
            " up_sampling2d (UpSampling2D)   (None, 64, 32, 32)   0           ['conv2d_9[0][0]']               \n",
            "                                                                                                  \n",
            " concatenate (Concatenate)      (None, 128, 32, 32)  0           ['up_sampling2d[0][0]',          \n",
            "                                                                  'conv2d_7[0][0]']               \n",
            "                                                                                                  \n",
            " conv2d_10 (Conv2D)             (None, 32, 32, 32)   36896       ['concatenate[0][0]']            \n",
            "                                                                                                  \n",
            " dropout_5 (Dropout)            (None, 32, 32, 32)   0           ['conv2d_10[0][0]']              \n",
            "                                                                                                  \n",
            " conv2d_11 (Conv2D)             (None, 32, 32, 32)   9248        ['dropout_5[0][0]']              \n",
            "                                                                                                  \n",
            " up_sampling2d_1 (UpSampling2D)  (None, 32, 64, 64)  0           ['conv2d_11[0][0]']              \n",
            "                                                                                                  \n",
            " concatenate_1 (Concatenate)    (None, 96, 64, 64)   0           ['up_sampling2d_1[0][0]',        \n",
            "                                                                  'conv2d_5[0][0]']               \n",
            "                                                                                                  \n",
            " conv2d_12 (Conv2D)             (None, 32, 64, 64)   27680       ['concatenate_1[0][0]']          \n",
            "                                                                                                  \n",
            " dropout_6 (Dropout)            (None, 32, 64, 64)   0           ['conv2d_12[0][0]']              \n",
            "                                                                                                  \n",
            " conv2d_13 (Conv2D)             (None, 32, 64, 64)   9248        ['dropout_6[0][0]']              \n",
            "                                                                                                  \n",
            " up_sampling2d_2 (UpSampling2D)  (None, 32, 128, 128  0          ['conv2d_13[0][0]']              \n",
            "                                )                                                                 \n",
            "                                                                                                  \n",
            " concatenate_2 (Concatenate)    (None, 96, 128, 128  0           ['up_sampling2d_2[0][0]',        \n",
            "                                )                                 'conv2d_3[0][0]']               \n",
            "                                                                                                  \n",
            " conv2d_14 (Conv2D)             (None, 32, 128, 128  27680       ['concatenate_2[0][0]']          \n",
            "                                )                                                                 \n",
            "                                                                                                  \n",
            " dropout_7 (Dropout)            (None, 32, 128, 128  0           ['conv2d_14[0][0]']              \n",
            "                                )                                                                 \n",
            "                                                                                                  \n",
            " conv2d_15 (Conv2D)             (None, 32, 128, 128  9248        ['dropout_7[0][0]']              \n",
            "                                )                                                                 \n",
            "                                                                                                  \n",
            " up_sampling2d_3 (UpSampling2D)  (None, 32, 256, 256  0          ['conv2d_15[0][0]']              \n",
            "                                )                                                                 \n",
            "                                                                                                  \n",
            " concatenate_3 (Concatenate)    (None, 96, 256, 256  0           ['up_sampling2d_3[0][0]',        \n",
            "                                )                                 'conv2d_1[0][0]']               \n",
            "                                                                                                  \n",
            " conv2d_16 (Conv2D)             (None, 32, 256, 256  27680       ['concatenate_3[0][0]']          \n",
            "                                )                                                                 \n",
            "                                                                                                  \n",
            " dropout_8 (Dropout)            (None, 32, 256, 256  0           ['conv2d_16[0][0]']              \n",
            "                                )                                                                 \n",
            "                                                                                                  \n",
            " conv2d_17 (Conv2D)             (None, 32, 256, 256  9248        ['dropout_8[0][0]']              \n",
            "                                )                                                                 \n",
            "                                                                                                  \n",
            " conv2d_18 (Conv2D)             (None, 1, 256, 256)  33          ['conv2d_17[0][0]']              \n",
            "                                                                                                  \n",
            "==================================================================================================\n",
            "Total params: 491,105\n",
            "Trainable params: 491,105\n",
            "Non-trainable params: 0\n",
            "__________________________________________________________________________________________________\n"
          ]
        }
      ]
    },
    {
      "cell_type": "markdown",
      "source": [
        "# RIm-ONE"
      ],
      "metadata": {
        "id": "RBNKvnyR57da"
      }
    },
    {
      "cell_type": "code",
      "source": [
        "!wget http://medimrg.webs.ull.es/download/578/"
      ],
      "metadata": {
        "colab": {
          "base_uri": "https://localhost:8080/"
        },
        "id": "zEcfC9rbz3Ts",
        "outputId": "6ff5e92a-68f2-46e6-8d36-5d8138949ca3"
      },
      "execution_count": null,
      "outputs": [
        {
          "output_type": "stream",
          "name": "stdout",
          "text": [
            "--2022-04-30 04:03:29--  http://medimrg.webs.ull.es/download/578/\n",
            "Resolving medimrg.webs.ull.es (medimrg.webs.ull.es)... 193.145.118.141\n",
            "Connecting to medimrg.webs.ull.es (medimrg.webs.ull.es)|193.145.118.141|:80... connected.\n",
            "HTTP request sent, awaiting response... 200 OK\n",
            "Length: 203123809 (194M) [application/zip]\n",
            "Saving to: ‘index.html’\n",
            "\n",
            "index.html          100%[===================>] 193.71M  59.8MB/s    in 3.7s    \n",
            "\n",
            "2022-04-30 04:03:34 (52.8 MB/s) - ‘index.html’ saved [203123809/203123809]\n",
            "\n"
          ]
        }
      ]
    },
    {
      "cell_type": "code",
      "source": [
        "#!unzip '/content/drive/MyDrive/eye_glaucoma/rim.zip' -d '/content/drive/MyDrive/eye_glaucoma/'"
      ],
      "metadata": {
        "id": "3rep-XQez4_Z"
      },
      "execution_count": null,
      "outputs": []
    },
    {
      "cell_type": "code",
      "source": [
        "img = []\n",
        "path = '/content/optic-nerve-cnn/data/RIM-ONE v3/Glaucoma and suspects/Average_masks'\n",
        "for i in tq(natsorted(os.listdir(path))):\n",
        "  if('.png' in i):\n",
        "    ii = cv2.imread(os.path.join(path, i))\n",
        "    img.append(ii.shape)"
      ],
      "metadata": {
        "colab": {
          "base_uri": "https://localhost:8080/",
          "height": 49,
          "referenced_widgets": [
            "fa2f06861ab14bc8ad716dcd38dba9d4",
            "e1352e48a92f4597b3c5c5b5cadee6b0",
            "61bfec89984440a292c4103a3b9526a9",
            "e2e95bbf419142f3bb0ad1c091020407",
            "3dce1e27b70e475c8a14e3a890d905de",
            "d6091fdf57df40699af0e65677a61c48",
            "0a2dd911444f4aef97bbe5ae32957ef6",
            "63864771f3e24aeb853949c46d30ddda",
            "0185983114064087929fd5c22a65292d",
            "e8adcaf587f846059b80f2c23a7067da",
            "90dab4e5c18a403e8dc5d11cfb0aca27"
          ]
        },
        "id": "I0JcbBQqz8-f",
        "outputId": "895d226f-4688-41b4-b4a9-decd1221dc38"
      },
      "execution_count": null,
      "outputs": [
        {
          "output_type": "display_data",
          "data": {
            "text/plain": [
              "  0%|          | 0/444 [00:00<?, ?it/s]"
            ],
            "application/vnd.jupyter.widget-view+json": {
              "version_major": 2,
              "version_minor": 0,
              "model_id": "fa2f06861ab14bc8ad716dcd38dba9d4"
            }
          },
          "metadata": {}
        }
      ]
    },
    {
      "cell_type": "code",
      "source": [
        "Counter(img)\n",
        "\n",
        "Counter({(1424, 2144, 3): 74})\n",
        "Counter({(1424, 2144, 3): 85})\n",
        "\n",
        "74+85, 2144/2"
      ],
      "metadata": {
        "colab": {
          "base_uri": "https://localhost:8080/"
        },
        "id": "wdxXlTWaz_hL",
        "outputId": "79d68ff8-755f-4032-de95-e19ae5bf73be"
      },
      "execution_count": null,
      "outputs": [
        {
          "output_type": "execute_result",
          "data": {
            "text/plain": [
              "(159, 1072.0)"
            ]
          },
          "metadata": {},
          "execution_count": 11
        }
      ]
    },
    {
      "cell_type": "markdown",
      "source": [
        "## OD\n"
      ],
      "metadata": {
        "id": "BLUfot0PA5fJ"
      }
    },
    {
      "cell_type": "code",
      "source": [
        "x = []\n",
        "y = []\n",
        "path1 = '/content/optic-nerve-cnn/data/RIM-ONE v3/Glaucoma and suspects'\n",
        "path2 = '/content/optic-nerve-cnn/data/RIM-ONE v3/Healthy'\n",
        "for path in [path1, path2]:\n",
        "  for img_name in tq(natsorted(os.listdir(os.path.join(path, 'Stereo Images')))):\n",
        "    x_img = cv2.imread(os.path.join(path, 'Stereo Images', img_name))\n",
        "    mask_name = img_name.split('.')[0]+'-Disc-Avg.png'\n",
        "    mask_img = cv2.imread(os.path.join(path, 'Average_masks', mask_name), 0)\n",
        "    mask_img1 = mask_img[0:1424, 0:1072]\n",
        "    mask_img2 = mask_img[0:1424, 1072:]\n",
        "    \n",
        "    if(255 in list(np.unique(mask_img1))):\n",
        "      x_img = x_img[0:1424, 0:1072]\n",
        "      x_img = cv2.resize(x_img, (256, 256))\n",
        "\n",
        "      y_img = mask_img1.copy()\n",
        "      y_img = cv2.resize(y_img, (256, 256))\n",
        "      y_img[y_img<127] = 0\n",
        "      y_img[y_img>=127] = 255\n",
        "      \n",
        "    elif(255 in list(np.unique(mask_img2))):\n",
        "      x_img = x_img[0:1424, 1072:]\n",
        "      x_img = cv2.resize(x_img, (256, 256))\n",
        "\n",
        "      y_img = mask_img2.copy()\n",
        "      y_img = cv2.resize(y_img, (256, 256))\n",
        "      y_img[y_img<127] = 0\n",
        "      y_img[y_img>=127] = 255\n",
        "\n",
        "    else:\n",
        "      print('Not good', img_name, mask_name)\n",
        "\n",
        "    x.append(x_img)\n",
        "    y.append(y_img)\n",
        "\n",
        "x = np.array(x)\n",
        "y = np.array(y)"
      ],
      "metadata": {
        "colab": {
          "base_uri": "https://localhost:8080/",
          "height": 81,
          "referenced_widgets": [
            "0fa55199cada4178a8a7eb469ed652e8",
            "a428f1bb0d6a437caaf4bd94a7c1c509",
            "c27f6b2c04eb4f8097c378b3e68dbc74",
            "698b22fe70bc408dbcb877ab251768d3",
            "67012a8a23a54b71bc2ffc9a1f6803df",
            "898add8ece8c4e148e4df3f40f70fd94",
            "18e4603cff3047a4ab40d4918ee23388",
            "c51aac8d68f045f4bbb04285415228dd",
            "f834b13cf83a4db38c060393c5f2cbe9",
            "dbd36d611bff479d94ceb040ad0c0e26",
            "3e7567a5b8fd4725bb9080f3da2be518",
            "96f5df3a8086407183f084314cb13068",
            "24853a20a59641d9b346542d89798261",
            "6fb68235e5ac4d1397f68c21e0c0641f",
            "30bb352c80bb4e7ba8df587cc898626d",
            "cee17c105683466eadcb453d2c14bf7f",
            "1601abf24c204c96a3deb93b3f876ac6",
            "159d6108b9274d4c9447a98a0f9d4e8e",
            "fd61cb177c4b4b33a5bdf92541a41da4",
            "542b02f0034f4b0c990a5f04db126a36",
            "4921b5b0fd9c4e6da92244065551b294",
            "5d7e6131ae674d329e697f273496cf8f"
          ]
        },
        "id": "UYxmGFUx0Gpa",
        "outputId": "e6320f26-1722-4158-bd8c-a40005d8d514"
      },
      "execution_count": null,
      "outputs": [
        {
          "output_type": "display_data",
          "data": {
            "text/plain": [
              "  0%|          | 0/74 [00:00<?, ?it/s]"
            ],
            "application/vnd.jupyter.widget-view+json": {
              "version_major": 2,
              "version_minor": 0,
              "model_id": "0fa55199cada4178a8a7eb469ed652e8"
            }
          },
          "metadata": {}
        },
        {
          "output_type": "display_data",
          "data": {
            "text/plain": [
              "  0%|          | 0/85 [00:00<?, ?it/s]"
            ],
            "application/vnd.jupyter.widget-view+json": {
              "version_major": 2,
              "version_minor": 0,
              "model_id": "96f5df3a8086407183f084314cb13068"
            }
          },
          "metadata": {}
        }
      ]
    },
    {
      "cell_type": "code",
      "source": [
        "x.shape, y.shape"
      ],
      "metadata": {
        "colab": {
          "base_uri": "https://localhost:8080/"
        },
        "id": "2vsvLjpr0I-N",
        "outputId": "abf06a02-8eac-446f-90c4-71f8e7b1217c"
      },
      "execution_count": null,
      "outputs": [
        {
          "output_type": "execute_result",
          "data": {
            "text/plain": [
              "((159, 256, 256, 3), (159, 256, 256))"
            ]
          },
          "metadata": {},
          "execution_count": 83
        }
      ]
    },
    {
      "cell_type": "code",
      "source": [
        "ind = 111\n",
        "cv2_imshow(cv2.hconcat([x[ind], cv2.merge([y[ind], y[ind], y[ind]])]))"
      ],
      "metadata": {
        "colab": {
          "base_uri": "https://localhost:8080/",
          "height": 273
        },
        "id": "BAIMZyvd0KpX",
        "outputId": "3b97475f-f1c0-4ebf-eb78-ae90b82b6e56"
      },
      "execution_count": null,
      "outputs": [
        {
          "output_type": "display_data",
          "data": {
            "text/plain": [
              "<PIL.Image.Image image mode=RGB size=512x256 at 0x7FBC41FD35D0>"
            ],
            "image/png": "[encoded data removed]"
          },
          "metadata": {}
        }
      ]
    },
    {
      "cell_type": "code",
      "source": [
        "np.unique(y)"
      ],
      "metadata": {
        "colab": {
          "base_uri": "https://localhost:8080/"
        },
        "id": "Cy17cRny0MJg",
        "outputId": "43169de1-4014-49f0-edae-c7d87e94ca7e"
      },
      "execution_count": null,
      "outputs": [
        {
          "output_type": "execute_result",
          "data": {
            "text/plain": [
              "array([0., 1.], dtype=float32)"
            ]
          },
          "metadata": {},
          "execution_count": 94
        }
      ]
    },
    {
      "cell_type": "code",
      "source": [
        "y = to_categorical(y, 2)\n",
        "y[10][112][112]"
      ],
      "metadata": {
        "colab": {
          "base_uri": "https://localhost:8080/",
          "height": 182
        },
        "id": "yix3Hj3w0OEx",
        "outputId": "e235e6ad-cae8-4fb0-ca2e-db192e1c1d98"
      },
      "execution_count": null,
      "outputs": [
        {
          "output_type": "error",
          "ename": "IndexError",
          "evalue": "ignored",
          "traceback": [
            "\u001b[0;31m---------------------------------------------------------------------------\u001b[0m",
            "\u001b[0;31mIndexError\u001b[0m                                Traceback (most recent call last)",
            "\u001b[0;32m<ipython-input-96-db8bb42fa5e9>\u001b[0m in \u001b[0;36m<module>\u001b[0;34m()\u001b[0m\n\u001b[1;32m      1\u001b[0m \u001b[0my\u001b[0m \u001b[0;34m=\u001b[0m \u001b[0mto_categorical\u001b[0m\u001b[0;34m(\u001b[0m\u001b[0my\u001b[0m\u001b[0;34m,\u001b[0m \u001b[0;36m2\u001b[0m\u001b[0;34m)\u001b[0m\u001b[0;34m\u001b[0m\u001b[0;34m\u001b[0m\u001b[0m\n\u001b[0;32m----> 2\u001b[0;31m \u001b[0my\u001b[0m\u001b[0;34m[\u001b[0m\u001b[0;36m2\u001b[0m\u001b[0;34m]\u001b[0m\u001b[0;34m[\u001b[0m\u001b[0;36m112\u001b[0m\u001b[0;34m]\u001b[0m\u001b[0;34m[\u001b[0m\u001b[0;36m112\u001b[0m\u001b[0;34m]\u001b[0m\u001b[0;34m\u001b[0m\u001b[0;34m\u001b[0m\u001b[0m\n\u001b[0m",
            "\u001b[0;31mIndexError\u001b[0m: index 2 is out of bounds for axis 0 with size 2"
          ]
        }
      ]
    },
    {
      "cell_type": "code",
      "source": [
        "y.dtype"
      ],
      "metadata": {
        "colab": {
          "base_uri": "https://localhost:8080/"
        },
        "id": "J_nzjmow0P9q",
        "outputId": "ca26b075-25cb-405a-a012-fdd7990b74f6"
      },
      "execution_count": null,
      "outputs": [
        {
          "output_type": "execute_result",
          "data": {
            "text/plain": [
              "dtype('uint8')"
            ]
          },
          "metadata": {},
          "execution_count": 87
        }
      ]
    },
    {
      "cell_type": "code",
      "source": [
        "y.shape"
      ],
      "metadata": {
        "colab": {
          "base_uri": "https://localhost:8080/"
        },
        "id": "hIXCP8DI8jo_",
        "outputId": "7409dac3-fb79-4a86-d26d-b070cd940f9f"
      },
      "execution_count": null,
      "outputs": [
        {
          "output_type": "execute_result",
          "data": {
            "text/plain": [
              "(159, 256, 256)"
            ]
          },
          "metadata": {},
          "execution_count": 88
        }
      ]
    },
    {
      "cell_type": "code",
      "source": [
        "y = y.reshape((159, 256, 256, 1))\n",
        "y.shape"
      ],
      "metadata": {
        "colab": {
          "base_uri": "https://localhost:8080/",
          "height": 182
        },
        "id": "o-XCKCpy8_hN",
        "outputId": "a847c6b8-8492-4324-d105-33e775d650c7"
      },
      "execution_count": null,
      "outputs": [
        {
          "output_type": "error",
          "ename": "AttributeError",
          "evalue": "ignored",
          "traceback": [
            "\u001b[0;31m---------------------------------------------------------------------------\u001b[0m",
            "\u001b[0;31mAttributeError\u001b[0m                            Traceback (most recent call last)",
            "\u001b[0;32m<ipython-input-92-7b565315664a>\u001b[0m in \u001b[0;36m<module>\u001b[0;34m()\u001b[0m\n\u001b[0;32m----> 1\u001b[0;31m \u001b[0my\u001b[0m \u001b[0;34m=\u001b[0m \u001b[0my\u001b[0m\u001b[0;34m.\u001b[0m\u001b[0mreshape\u001b[0m\u001b[0;34m(\u001b[0m\u001b[0;34m(\u001b[0m\u001b[0;36m159\u001b[0m\u001b[0;34m,\u001b[0m \u001b[0;36m256\u001b[0m\u001b[0;34m,\u001b[0m \u001b[0;36m256\u001b[0m\u001b[0;34m,\u001b[0m \u001b[0;36m1\u001b[0m\u001b[0;34m)\u001b[0m\u001b[0;34m)\u001b[0m\u001b[0;34m\u001b[0m\u001b[0;34m\u001b[0m\u001b[0m\n\u001b[0m\u001b[1;32m      2\u001b[0m \u001b[0my\u001b[0m\u001b[0;34m.\u001b[0m\u001b[0mshape\u001b[0m\u001b[0;34m\u001b[0m\u001b[0;34m\u001b[0m\u001b[0m\n",
            "\u001b[0;31mAttributeError\u001b[0m: 'int' object has no attribute 'reshape'"
          ]
        }
      ]
    },
    {
      "cell_type": "code",
      "source": [
        "x = x/255\n",
        "x.shape"
      ],
      "metadata": {
        "colab": {
          "base_uri": "https://localhost:8080/"
        },
        "id": "IwqeQS9N0Xm4",
        "outputId": "528427bd-fd49-4857-d00e-01df019b593a"
      },
      "execution_count": null,
      "outputs": [
        {
          "output_type": "execute_result",
          "data": {
            "text/plain": [
              "(159, 256, 256, 3)"
            ]
          },
          "metadata": {},
          "execution_count": 89
        }
      ]
    },
    {
      "cell_type": "code",
      "source": [],
      "metadata": {
        "colab": {
          "base_uri": "https://localhost:8080/",
          "height": 182
        },
        "id": "MzRqW4wL80DA",
        "outputId": "a92ea5ae-10da-438d-f4ed-276c6d11dc49"
      },
      "execution_count": null,
      "outputs": [
        {
          "output_type": "error",
          "ename": "AttributeError",
          "evalue": "ignored",
          "traceback": [
            "\u001b[0;31m---------------------------------------------------------------------------\u001b[0m",
            "\u001b[0;31mAttributeError\u001b[0m                            Traceback (most recent call last)",
            "\u001b[0;32m<ipython-input-91-7b565315664a>\u001b[0m in \u001b[0;36m<module>\u001b[0;34m()\u001b[0m\n\u001b[0;32m----> 1\u001b[0;31m \u001b[0my\u001b[0m \u001b[0;34m=\u001b[0m \u001b[0my\u001b[0m\u001b[0;34m.\u001b[0m\u001b[0mreshape\u001b[0m\u001b[0;34m(\u001b[0m\u001b[0;34m(\u001b[0m\u001b[0;36m159\u001b[0m\u001b[0;34m,\u001b[0m \u001b[0;36m256\u001b[0m\u001b[0;34m,\u001b[0m \u001b[0;36m256\u001b[0m\u001b[0;34m,\u001b[0m \u001b[0;36m1\u001b[0m\u001b[0;34m)\u001b[0m\u001b[0;34m)\u001b[0m\u001b[0;34m\u001b[0m\u001b[0;34m\u001b[0m\u001b[0m\n\u001b[0m\u001b[1;32m      2\u001b[0m \u001b[0my\u001b[0m\u001b[0;34m.\u001b[0m\u001b[0mshape\u001b[0m\u001b[0;34m\u001b[0m\u001b[0;34m\u001b[0m\u001b[0m\n",
            "\u001b[0;31mAttributeError\u001b[0m: 'int' object has no attribute 'reshape'"
          ]
        }
      ]
    },
    {
      "cell_type": "code",
      "source": [
        "(trainX, testX, trainY, testY) = train_test_split(x,\n",
        "    y, test_size=0.2, random_state=11)\n",
        " \n",
        "x = y = nps = uni = Y = y_images = 0\n",
        "trainX.shape, testX.shape, trainY.shape, testY.shape"
      ],
      "metadata": {
        "colab": {
          "base_uri": "https://localhost:8080/"
        },
        "id": "T5C1lVCo0ZSM",
        "outputId": "d908d833-0411-4a2e-b52d-07d0ea607692"
      },
      "execution_count": null,
      "outputs": [
        {
          "output_type": "execute_result",
          "data": {
            "text/plain": [
              "((127, 256, 256, 3), (32, 256, 256, 3), (127, 256, 256), (32, 256, 256))"
            ]
          },
          "metadata": {},
          "execution_count": 90
        }
      ]
    },
    {
      "cell_type": "code",
      "source": [
        "trainX = trainX.transpose(0, 3, 1, 2)\n",
        "trainY = trainY.transpose(0, 3, 1, 2)\n",
        "testX = testX.transpose(0, 3, 1, 2)\n",
        "testY = testY.transpose(0, 3, 1, 2)\n",
        "trainX.shape, trainY.shape, testX.shape, testY.shape"
      ],
      "metadata": {
        "colab": {
          "base_uri": "https://localhost:8080/"
        },
        "id": "6BoTsXBeyrv1",
        "outputId": "2530f41c-c880-4d10-e0cc-d7b7b74125d3"
      },
      "execution_count": null,
      "outputs": [
        {
          "output_type": "execute_result",
          "data": {
            "text/plain": [
              "((127, 3, 256, 256), (127, 2, 256, 256), (32, 3, 256, 256), (32, 2, 256, 256))"
            ]
          },
          "metadata": {},
          "execution_count": 48
        }
      ]
    },
    {
      "cell_type": "code",
      "source": [
        "x_img = y_img = y_images = mask_img1 = mask_img2 = im = img_name = mask_img = 0\n",
        "\n",
        "from keras.callbacks import Callback,ModelCheckpoint\n",
        "from keras.models import Sequential,load_model\n",
        "from keras.layers import Dense, Dropout\n",
        "from keras.wrappers.scikit_learn import KerasClassifier\n",
        "import keras.backend as K\n",
        "def get_f1(y_true, y_pred): #taken from old keras source code\n",
        "    true_positives = K.sum(K.round(K.clip(y_true * y_pred, 0, 1)))\n",
        "    possible_positives = K.sum(K.round(K.clip(y_true, 0, 1)))\n",
        "    predicted_positives = K.sum(K.round(K.clip(y_pred, 0, 1)))\n",
        "    precision = true_positives / (predicted_positives + K.epsilon())\n",
        "    recall = true_positives / (possible_positives + K.epsilon())\n",
        "    f1_val = 2*(precision*recall)/(precision+recall+K.epsilon())\n",
        "    return f1_val\n",
        "\n",
        "yy = []\n",
        "for i in range(7885747):\n",
        "  yy.append([0])\n",
        "for i in range(92237):\n",
        "  yy.append([1])\n",
        "yy = np.array(yy)\n",
        "print(yy.shape)"
      ],
      "metadata": {
        "colab": {
          "base_uri": "https://localhost:8080/"
        },
        "id": "26s6M2f30cDh",
        "outputId": "0bc4d9cd-0f1e-43f5-a9f6-398d185037b4"
      },
      "execution_count": null,
      "outputs": [
        {
          "output_type": "stream",
          "name": "stdout",
          "text": [
            "(7977984, 1)\n"
          ]
        }
      ]
    },
    {
      "cell_type": "code",
      "source": [
        "from sklearn.utils import class_weight\n",
        "print(yy.shape)\n",
        "yy = yy.reshape(7977984)\n",
        "print(yy.shape)\n",
        "print(np.unique(yy))\n",
        "class_weights = class_weight.compute_class_weight(class_weight='balanced', classes=np.unique(yy), y=yy)\n",
        "class_weights"
      ],
      "metadata": {
        "colab": {
          "base_uri": "https://localhost:8080/"
        },
        "id": "t1aRnt8R0ljl",
        "outputId": "40bc2e68-073a-4d46-edce-4b635ca98d99"
      },
      "execution_count": null,
      "outputs": [
        {
          "output_type": "stream",
          "name": "stdout",
          "text": [
            "(7977984, 1)\n",
            "(7977984,)\n",
            "[0 1]\n"
          ]
        },
        {
          "output_type": "execute_result",
          "data": {
            "text/plain": [
              "array([ 0.50584834, 43.24720015])"
            ]
          },
          "metadata": {},
          "execution_count": 50
        }
      ]
    },
    {
      "cell_type": "code",
      "source": [
        "yy=0\n",
        "\n",
        "#od\n",
        "[ 0.5217884 , 11.97399276]\n",
        "#oc\n",
        "[ 0.50584834, 43.24720015]"
      ],
      "metadata": {
        "colab": {
          "base_uri": "https://localhost:8080/"
        },
        "id": "PRhoTAHW0oSK",
        "outputId": "0af015e0-e694-48cb-86a0-5016f555386a"
      },
      "execution_count": null,
      "outputs": [
        {
          "output_type": "execute_result",
          "data": {
            "text/plain": [
              "[0.50584834, 43.24720015]"
            ]
          },
          "metadata": {},
          "execution_count": 51
        }
      ]
    },
    {
      "cell_type": "code",
      "source": [
        "trainX.shape"
      ],
      "metadata": {
        "colab": {
          "base_uri": "https://localhost:8080/"
        },
        "id": "XE2i6pA4ve3s",
        "outputId": "e4984d23-654a-44a6-9065-5d57ee48e733"
      },
      "execution_count": null,
      "outputs": [
        {
          "output_type": "execute_result",
          "data": {
            "text/plain": [
              "(127, 3, 256, 256)"
            ]
          },
          "metadata": {},
          "execution_count": 52
        }
      ]
    },
    {
      "cell_type": "code",
      "source": [
        "def lossFunc(true, pred):\n",
        "\n",
        "      axis = -1 #if channels last \n",
        "      #axis=  1 #if channels first\n",
        "      weightsList = [ 0.5217884 , 11.97399276]\n",
        "      #argmax returns the index of the element with the greatest value\n",
        "      #done in the class axis, it returns the class index    \n",
        "      classSelectors = K.argmax(true, axis=axis) \n",
        "      #if your loss is sparse, use only true as classSelectors\n",
        "      print('classSelectors1', classSelectors.shape)\n",
        "      #considering weights are ordered by class, for each class\n",
        "      #true(1) if the class index is equal to the weight index   \n",
        "      classSelectors = [K.equal(K.cast(i,tf.int64), classSelectors) for i in range(len(weightsList))]\n",
        "      print('classSelectors2', classSelectors)\n",
        "      #for i in classSelectors:\n",
        "      #  print(i)\n",
        "      #print(\"!!!!!!!!!!!!!\")\n",
        "      #casting boolean to float for calculations  \n",
        "      #each tensor in the list contains 1 where ground true class is equal to its index \n",
        "      #if you sum all these, you will get a tensor full of ones. \n",
        "      classSelectors = [K.cast(x, K.floatx()) for x in classSelectors]\n",
        "      #print('classSelectors3', classSelectors)\n",
        "\n",
        "      #for each of the selections above, multiply their respective weight\n",
        "      weights = [sel * w for sel,w in zip(classSelectors, weightsList)] \n",
        "      #print('weights', weights)\n",
        "\n",
        "      #sums all the selections\n",
        "      #result is a tensor with the respective weight for each element in predictions\n",
        "      weightMultiplier = weights[0]\n",
        "      for i in range(1, len(weights)):\n",
        "          weightMultiplier = weightMultiplier + weights[i]\n",
        "      #print('weightMultiplier', weightMultiplier, type(weightMultiplier))#, K.print_tensor(weightMultiplier, message=\"wm\"))\n",
        "      #make sure your originalLossFunc only collapses the class axis\n",
        "      #you need the other axes intact to multiply the weights tensor\n",
        "      loss = keras.losses.sparse_categorical_crossentropy(true,pred) \n",
        "      #print('loss', loss.shape, loss)\n",
        "      loss = loss * weightMultiplier\n",
        "\n",
        "      return loss\n"
      ],
      "metadata": {
        "id": "j6b9KLKU1KdA"
      },
      "execution_count": null,
      "outputs": []
    },
    {
      "cell_type": "code",
      "source": [
        "def mean_IOU_gpu(X, Y):\n",
        "    \"\"\"Computes mean Intersection-over-Union (IOU) for two arrays of binary images.\n",
        "    Assuming X and Y are of shape (n_images, w, h).\"\"\"\n",
        "    \n",
        "    #X_fl = K.clip(K.batch_flatten(X), K.epsilon(), 1.)\n",
        "    #Y_fl = K.clip(K.batch_flatten(Y), K.epsilon(), 1.)\n",
        "    X_fl = K.clip(K.batch_flatten(X), 0., 1.)\n",
        "    Y_fl = K.clip(K.batch_flatten(Y), 0., 1.)\n",
        "    X_fl = K.cast(K.greater(X_fl, 0.5), 'float32')\n",
        "    Y_fl = K.cast(K.greater(Y_fl, 0.5), 'float32')\n",
        "\n",
        "    intersection = K.sum(X_fl * Y_fl, axis=1)\n",
        "    union = K.sum(K.maximum(X_fl, Y_fl), axis=1)\n",
        "    # if union == 0, it follows that intersection == 0 => score should be 0.\n",
        "    union = K.switch(K.equal(union, 0), K.ones_like(union), union)\n",
        "    return K.mean(intersection / K.cast(union, 'float32'))\n",
        "\n",
        "\n",
        "def mean_IOU_gpu_loss(X, Y):\n",
        "    return -mean_IOU_gpu(X, Y)\n",
        "\n",
        "def dice(y_true, y_pred):\n",
        "    # Workaround for shape bug. For some reason y_true shape was not being set correctly\n",
        "    #y_true.set_shape(y_pred.get_shape())\n",
        "\n",
        "    # Without K.clip, K.sum() behaves differently when compared to np.count_nonzero()\n",
        "    #y_true_f = K.clip(K.batch_flatten(y_true), K.epsilon(), 1.)\n",
        "    #y_pred_f = K.clip(K.batch_flatten(y_pred), K.epsilon(), 1.)\n",
        "    y_true_f = K.clip(K.batch_flatten(y_true), 0., 1.)\n",
        "    y_pred_f = K.clip(K.batch_flatten(y_pred), 0., 1.)\n",
        "    #y_pred_f = K.greater(y_pred_f, 0.5)\n",
        "\n",
        "    intersection = 2 * K.sum(y_true_f * y_pred_f, axis=1)\n",
        "    union = K.sum(y_true_f * y_true_f, axis=1) + K.sum(y_pred_f * y_pred_f, axis=1)\n",
        "    return K.mean(intersection / union)\n",
        "\n",
        "def dice_metric(y_true, y_pred):\n",
        "    \"\"\"An exact Dice score for binary tensors.\"\"\"\n",
        "    y_true_f = K.cast(K.greater(y_true, 0.5), 'float32')\n",
        "    y_pred_f = K.cast(K.greater(y_pred, 0.5), 'float32')\n",
        "    return dice(y_true_f, y_pred_f)"
      ],
      "metadata": {
        "id": "MzPKZsnL1LQ1"
      },
      "execution_count": null,
      "outputs": []
    },
    {
      "cell_type": "code",
      "source": [
        "def unet_l(img_rows=256, img_cols=256):\n",
        "    inputs = Input((3, img_rows, img_cols))\n",
        "    conv1 = Conv2D(64, kernel_size=3, activation='LeakyReLU', padding='same')(inputs)\n",
        "    #conv1 = Dropout(0.3)(conv1)\n",
        "    conv1 = Conv2D(64, kernel_size=3, activation='LeakyReLU', padding='same')(conv1)\n",
        "    pool1 = MaxPooling2D(pool_size=(2, 2))(conv1)\n",
        "\n",
        "    conv2 = Conv2D(64, kernel_size=3, activation='LeakyReLU', padding='same')(pool1)\n",
        "    #conv2 = Dropout(0.3)(conv2)\n",
        "    conv2 = Conv2D(64, kernel_size=3, activation='LeakyReLU', padding='same')(conv2)\n",
        "    pool2 = MaxPooling2D(pool_size=(2, 2))(conv2)\n",
        "\n",
        "    conv3 = Conv2D(64, kernel_size=3, activation='LeakyReLU', padding='same')(pool2)\n",
        "    #conv3 = Dropout(0.3)(conv3)\n",
        "    conv3 = Conv2D(64, kernel_size=3, activation='LeakyReLU', padding='same')(conv3)\n",
        "    pool3 = MaxPooling2D(pool_size=(2, 2))(conv3)\n",
        "\n",
        "    conv4 = Conv2D(64, kernel_size=3, activation='LeakyReLU', padding='same')(pool3)\n",
        "    #conv4 = Dropout(0.3)(conv4)\n",
        "    conv4 = Conv2D(64, kernel_size=3, activation='LeakyReLU', padding='same')(conv4)\n",
        "    pool4 = MaxPooling2D(pool_size=(2, 2))(conv4)\n",
        "\n",
        "    conv5 = Conv2D(64, kernel_size=3, activation='LeakyReLU', padding='same')(pool4)\n",
        "    #conv5 = Dropout(0.3)(conv5)\n",
        "    conv5 = Conv2D(64, kernel_size=3, activation='LeakyReLU', padding='same')(conv5)\n",
        "\n",
        "    up6 = Concatenate(axis=1)([UpSampling2D(size=(2, 2))(conv5), conv4])\n",
        "    conv6 = Conv2D(32, kernel_size=3, activation='LeakyReLU', padding='same')(up6)\n",
        "    #conv6 = Dropout(0.3)(conv6)\n",
        "    conv6 = Conv2D(32, kernel_size=3, activation='LeakyReLU', padding='same')(conv6)\n",
        "\n",
        "    up7 = Concatenate(axis=1)([UpSampling2D(size=(2, 2))(conv6), conv3])\n",
        "    conv7 = Conv2D(32, kernel_size=3, activation='LeakyReLU', padding='same')(up7)\n",
        "    #conv7 = Dropout(0.3)(conv7)\n",
        "    conv7 = Conv2D(32, kernel_size=3, activation='LeakyReLU', padding='same')(conv7)\n",
        "\n",
        "    up8 = Concatenate(axis=1)([UpSampling2D(size=(2, 2))(conv7), conv2])\n",
        "    conv8 = Conv2D(32, kernel_size=3, activation='LeakyReLU', padding='same')(up8)\n",
        "    #conv8 = Dropout(0.3)(conv8)\n",
        "    conv8 = Conv2D(32, kernel_size=3, activation='LeakyReLU', padding='same')(conv8)\n",
        "\n",
        "    up9 = Concatenate(axis=1)([UpSampling2D(size=(2, 2))(conv8), conv1])\n",
        "    conv9 = Conv2D(32, kernel_size=3, activation='LeakyReLU', padding='same')(up9)\n",
        "    #conv9 = Dropout(0.3)(conv9)\n",
        "    conv9 = Conv2D(32, kernel_size=3, activation='LeakyReLU', padding='same')(conv9)\n",
        "\n",
        "    conv10 = Conv2D(1, kernel_size=1, activation='tanh', padding='same')(conv9)\n",
        "    #conv10 = Flatten()(conv10)\n",
        "\n",
        "    model = Model(inputs=inputs, outputs=conv10)\n",
        "\n",
        "    return model"
      ],
      "metadata": {
        "id": "9vdhbLWEFN6H"
      },
      "execution_count": null,
      "outputs": []
    },
    {
      "cell_type": "code",
      "source": [
        "# model.compile(optimizer=SGD(lr=3e-4, momentum=0.95),\n",
        "#               loss=log_dice_loss,\n",
        "#               metrics=[mean_IOU_gpu, dice_metric])\n",
        "# model.summary()\n",
        "\n",
        "model.compile(optimizer=SGD(lr=1e-3, momentum=0.95),\n",
        "              loss=log_dice_loss,\n",
        "              metrics=[mean_IOU_gpu, dice_metric])\n",
        "\n",
        "model.summary()"
      ],
      "metadata": {
        "colab": {
          "base_uri": "https://localhost:8080/"
        },
        "id": "Dz4Bq0-0FO5F",
        "outputId": "8cfaa9a9-b6f9-4265-a44f-be613fb538cc"
      },
      "execution_count": null,
      "outputs": [
        {
          "output_type": "stream",
          "name": "stdout",
          "text": [
            "Model: \"model\"\n",
            "__________________________________________________________________________________________________\n",
            " Layer (type)                   Output Shape         Param #     Connected to                     \n",
            "==================================================================================================\n",
            " input_1 (InputLayer)           [(None, 3, 256, 256  0           []                               \n",
            "                                )]                                                                \n",
            "                                                                                                  \n",
            " conv2d (Conv2D)                (None, 64, 256, 256  1792        ['input_1[0][0]']                \n",
            "                                )                                                                 \n",
            "                                                                                                  \n",
            " dropout (Dropout)              (None, 64, 256, 256  0           ['conv2d[0][0]']                 \n",
            "                                )                                                                 \n",
            "                                                                                                  \n",
            " conv2d_1 (Conv2D)              (None, 64, 256, 256  36928       ['dropout[0][0]']                \n",
            "                                )                                                                 \n",
            "                                                                                                  \n",
            " max_pooling2d (MaxPooling2D)   (None, 64, 128, 128  0           ['conv2d_1[0][0]']               \n",
            "                                )                                                                 \n",
            "                                                                                                  \n",
            " conv2d_2 (Conv2D)              (None, 64, 128, 128  36928       ['max_pooling2d[0][0]']          \n",
            "                                )                                                                 \n",
            "                                                                                                  \n",
            " dropout_1 (Dropout)            (None, 64, 128, 128  0           ['conv2d_2[0][0]']               \n",
            "                                )                                                                 \n",
            "                                                                                                  \n",
            " conv2d_3 (Conv2D)              (None, 64, 128, 128  36928       ['dropout_1[0][0]']              \n",
            "                                )                                                                 \n",
            "                                                                                                  \n",
            " max_pooling2d_1 (MaxPooling2D)  (None, 64, 64, 64)  0           ['conv2d_3[0][0]']               \n",
            "                                                                                                  \n",
            " conv2d_4 (Conv2D)              (None, 64, 64, 64)   36928       ['max_pooling2d_1[0][0]']        \n",
            "                                                                                                  \n",
            " dropout_2 (Dropout)            (None, 64, 64, 64)   0           ['conv2d_4[0][0]']               \n",
            "                                                                                                  \n",
            " conv2d_5 (Conv2D)              (None, 64, 64, 64)   36928       ['dropout_2[0][0]']              \n",
            "                                                                                                  \n",
            " max_pooling2d_2 (MaxPooling2D)  (None, 64, 32, 32)  0           ['conv2d_5[0][0]']               \n",
            "                                                                                                  \n",
            " conv2d_6 (Conv2D)              (None, 64, 32, 32)   36928       ['max_pooling2d_2[0][0]']        \n",
            "                                                                                                  \n",
            " dropout_3 (Dropout)            (None, 64, 32, 32)   0           ['conv2d_6[0][0]']               \n",
            "                                                                                                  \n",
            " conv2d_7 (Conv2D)              (None, 64, 32, 32)   36928       ['dropout_3[0][0]']              \n",
            "                                                                                                  \n",
            " max_pooling2d_3 (MaxPooling2D)  (None, 64, 16, 16)  0           ['conv2d_7[0][0]']               \n",
            "                                                                                                  \n",
            " conv2d_8 (Conv2D)              (None, 64, 16, 16)   36928       ['max_pooling2d_3[0][0]']        \n",
            "                                                                                                  \n",
            " dropout_4 (Dropout)            (None, 64, 16, 16)   0           ['conv2d_8[0][0]']               \n",
            "                                                                                                  \n",
            " conv2d_9 (Conv2D)              (None, 64, 16, 16)   36928       ['dropout_4[0][0]']              \n",
            "                                                                                                  \n",
            " up_sampling2d (UpSampling2D)   (None, 64, 32, 32)   0           ['conv2d_9[0][0]']               \n",
            "                                                                                                  \n",
            " concatenate (Concatenate)      (None, 128, 32, 32)  0           ['up_sampling2d[0][0]',          \n",
            "                                                                  'conv2d_7[0][0]']               \n",
            "                                                                                                  \n",
            " conv2d_10 (Conv2D)             (None, 32, 32, 32)   36896       ['concatenate[0][0]']            \n",
            "                                                                                                  \n",
            " dropout_5 (Dropout)            (None, 32, 32, 32)   0           ['conv2d_10[0][0]']              \n",
            "                                                                                                  \n",
            " conv2d_11 (Conv2D)             (None, 32, 32, 32)   9248        ['dropout_5[0][0]']              \n",
            "                                                                                                  \n",
            " up_sampling2d_1 (UpSampling2D)  (None, 32, 64, 64)  0           ['conv2d_11[0][0]']              \n",
            "                                                                                                  \n",
            " concatenate_1 (Concatenate)    (None, 96, 64, 64)   0           ['up_sampling2d_1[0][0]',        \n",
            "                                                                  'conv2d_5[0][0]']               \n",
            "                                                                                                  \n",
            " conv2d_12 (Conv2D)             (None, 32, 64, 64)   27680       ['concatenate_1[0][0]']          \n",
            "                                                                                                  \n",
            " dropout_6 (Dropout)            (None, 32, 64, 64)   0           ['conv2d_12[0][0]']              \n",
            "                                                                                                  \n",
            " conv2d_13 (Conv2D)             (None, 32, 64, 64)   9248        ['dropout_6[0][0]']              \n",
            "                                                                                                  \n",
            " up_sampling2d_2 (UpSampling2D)  (None, 32, 128, 128  0          ['conv2d_13[0][0]']              \n",
            "                                )                                                                 \n",
            "                                                                                                  \n",
            " concatenate_2 (Concatenate)    (None, 96, 128, 128  0           ['up_sampling2d_2[0][0]',        \n",
            "                                )                                 'conv2d_3[0][0]']               \n",
            "                                                                                                  \n",
            " conv2d_14 (Conv2D)             (None, 32, 128, 128  27680       ['concatenate_2[0][0]']          \n",
            "                                )                                                                 \n",
            "                                                                                                  \n",
            " dropout_7 (Dropout)            (None, 32, 128, 128  0           ['conv2d_14[0][0]']              \n",
            "                                )                                                                 \n",
            "                                                                                                  \n",
            " conv2d_15 (Conv2D)             (None, 32, 128, 128  9248        ['dropout_7[0][0]']              \n",
            "                                )                                                                 \n",
            "                                                                                                  \n",
            " up_sampling2d_3 (UpSampling2D)  (None, 32, 256, 256  0          ['conv2d_15[0][0]']              \n",
            "                                )                                                                 \n",
            "                                                                                                  \n",
            " concatenate_3 (Concatenate)    (None, 96, 256, 256  0           ['up_sampling2d_3[0][0]',        \n",
            "                                )                                 'conv2d_1[0][0]']               \n",
            "                                                                                                  \n",
            " conv2d_16 (Conv2D)             (None, 32, 256, 256  27680       ['concatenate_3[0][0]']          \n",
            "                                )                                                                 \n",
            "                                                                                                  \n",
            " dropout_8 (Dropout)            (None, 32, 256, 256  0           ['conv2d_16[0][0]']              \n",
            "                                )                                                                 \n",
            "                                                                                                  \n",
            " conv2d_17 (Conv2D)             (None, 32, 256, 256  9248        ['dropout_8[0][0]']              \n",
            "                                )                                                                 \n",
            "                                                                                                  \n",
            " conv2d_18 (Conv2D)             (None, 1, 256, 256)  33          ['conv2d_17[0][0]']              \n",
            "                                                                                                  \n",
            "==================================================================================================\n",
            "Total params: 491,105\n",
            "Trainable params: 491,105\n",
            "Non-trainable params: 0\n",
            "__________________________________________________________________________________________________\n"
          ]
        }
      ]
    },
    {
      "cell_type": "code",
      "source": [
        "model.compile(optimizer=Adam(0.0001),\n",
        "              loss=lossFunc,\n",
        "              metrics=[mean_IOU_gpu, 'accuracy', get_f1])\n",
        "model.summary()"
      ],
      "metadata": {
        "id": "RwQdu_3d2mLT"
      },
      "execution_count": null,
      "outputs": []
    },
    {
      "cell_type": "code",
      "source": [
        "%%time\n",
        "red_lr= ReduceLROnPlateau(monitor='val_loss',patience=9,verbose=2,factor=0.001,min_delta=0.01)\n",
        "filepath = r\"/content/drive/MyDrive/final-mid/od.h5\"#-{epoch:02d}-{loss:.4f}-{accuracy:.4f}-{get_f1:.4f}-{val_loss:.4f}-{val_accuracy:.4f}-{val_get_f1:.4f}.h5\"\n",
        "check=ModelCheckpoint(filepath = filepath, verbose = 1, save_best_only = True)\n",
        "\n",
        "H = model.fit(\n",
        "    trainX, trainY,\n",
        "    validation_data=(testX, testY),\n",
        "    callbacks = [check, ],\n",
        "    batch_size=8,\n",
        "    epochs=60,\n",
        "    #sample_weight=cl,\n",
        "    verbose=2,\n",
        "  )"
      ],
      "metadata": {
        "colab": {
          "base_uri": "https://localhost:8080/",
          "height": 1000
        },
        "id": "7w-CT8po2qqe",
        "outputId": "ab4a5b18-8559-49de-be5a-4fea5abcf4bd"
      },
      "execution_count": null,
      "outputs": [
        {
          "output_type": "stream",
          "name": "stdout",
          "text": [
            "Epoch 1/60\n"
          ]
        },
        {
          "output_type": "error",
          "ename": "InvalidArgumentError",
          "evalue": "ignored",
          "traceback": [
            "\u001b[0;31m---------------------------------------------------------------------------\u001b[0m",
            "\u001b[0;31mInvalidArgumentError\u001b[0m                      Traceback (most recent call last)",
            "\u001b[0;32m<ipython-input-79-f649a56ecece>\u001b[0m in \u001b[0;36m<module>\u001b[0;34m()\u001b[0m\n\u001b[0;32m----> 1\u001b[0;31m \u001b[0mget_ipython\u001b[0m\u001b[0;34m(\u001b[0m\u001b[0;34m)\u001b[0m\u001b[0;34m.\u001b[0m\u001b[0mrun_cell_magic\u001b[0m\u001b[0;34m(\u001b[0m\u001b[0;34m'time'\u001b[0m\u001b[0;34m,\u001b[0m \u001b[0;34m''\u001b[0m\u001b[0;34m,\u001b[0m \u001b[0;34m'red_lr= ReduceLROnPlateau(monitor=\\'val_loss\\',patience=9,verbose=2,factor=0.001,min_delta=0.01)\\nfilepath = r\"/content/drive/MyDrive/final-mid/od.h5\"#-{epoch:02d}-{loss:.4f}-{accuracy:.4f}-{get_f1:.4f}-{val_loss:.4f}-{val_accuracy:.4f}-{val_get_f1:.4f}.h5\"\\ncheck=ModelCheckpoint(filepath = filepath, verbose = 1, save_best_only = True)\\n\\nH = model.fit(\\n    trainX, trainY,\\n    validation_data=(testX, testY),\\n    callbacks = [check, ],\\n    batch_size=8,\\n    epochs=60,\\n    #sample_weight=cl,\\n    verbose=2,\\n  )'\u001b[0m\u001b[0;34m)\u001b[0m\u001b[0;34m\u001b[0m\u001b[0;34m\u001b[0m\u001b[0m\n\u001b[0m",
            "\u001b[0;32m/usr/local/lib/python3.7/dist-packages/IPython/core/interactiveshell.py\u001b[0m in \u001b[0;36mrun_cell_magic\u001b[0;34m(self, magic_name, line, cell)\u001b[0m\n\u001b[1;32m   2115\u001b[0m             \u001b[0mmagic_arg_s\u001b[0m \u001b[0;34m=\u001b[0m \u001b[0mself\u001b[0m\u001b[0;34m.\u001b[0m\u001b[0mvar_expand\u001b[0m\u001b[0;34m(\u001b[0m\u001b[0mline\u001b[0m\u001b[0;34m,\u001b[0m \u001b[0mstack_depth\u001b[0m\u001b[0;34m)\u001b[0m\u001b[0;34m\u001b[0m\u001b[0;34m\u001b[0m\u001b[0m\n\u001b[1;32m   2116\u001b[0m             \u001b[0;32mwith\u001b[0m \u001b[0mself\u001b[0m\u001b[0;34m.\u001b[0m\u001b[0mbuiltin_trap\u001b[0m\u001b[0;34m:\u001b[0m\u001b[0;34m\u001b[0m\u001b[0;34m\u001b[0m\u001b[0m\n\u001b[0;32m-> 2117\u001b[0;31m                 \u001b[0mresult\u001b[0m \u001b[0;34m=\u001b[0m \u001b[0mfn\u001b[0m\u001b[0;34m(\u001b[0m\u001b[0mmagic_arg_s\u001b[0m\u001b[0;34m,\u001b[0m \u001b[0mcell\u001b[0m\u001b[0;34m)\u001b[0m\u001b[0;34m\u001b[0m\u001b[0;34m\u001b[0m\u001b[0m\n\u001b[0m\u001b[1;32m   2118\u001b[0m             \u001b[0;32mreturn\u001b[0m \u001b[0mresult\u001b[0m\u001b[0;34m\u001b[0m\u001b[0;34m\u001b[0m\u001b[0m\n\u001b[1;32m   2119\u001b[0m \u001b[0;34m\u001b[0m\u001b[0m\n",
            "\u001b[0;32m<decorator-gen-53>\u001b[0m in \u001b[0;36mtime\u001b[0;34m(self, line, cell, local_ns)\u001b[0m\n",
            "\u001b[0;32m/usr/local/lib/python3.7/dist-packages/IPython/core/magic.py\u001b[0m in \u001b[0;36m<lambda>\u001b[0;34m(f, *a, **k)\u001b[0m\n\u001b[1;32m    186\u001b[0m     \u001b[0;31m# but it's overkill for just that one bit of state.\u001b[0m\u001b[0;34m\u001b[0m\u001b[0;34m\u001b[0m\u001b[0;34m\u001b[0m\u001b[0m\n\u001b[1;32m    187\u001b[0m     \u001b[0;32mdef\u001b[0m \u001b[0mmagic_deco\u001b[0m\u001b[0;34m(\u001b[0m\u001b[0marg\u001b[0m\u001b[0;34m)\u001b[0m\u001b[0;34m:\u001b[0m\u001b[0;34m\u001b[0m\u001b[0;34m\u001b[0m\u001b[0m\n\u001b[0;32m--> 188\u001b[0;31m         \u001b[0mcall\u001b[0m \u001b[0;34m=\u001b[0m \u001b[0;32mlambda\u001b[0m \u001b[0mf\u001b[0m\u001b[0;34m,\u001b[0m \u001b[0;34m*\u001b[0m\u001b[0ma\u001b[0m\u001b[0;34m,\u001b[0m \u001b[0;34m**\u001b[0m\u001b[0mk\u001b[0m\u001b[0;34m:\u001b[0m \u001b[0mf\u001b[0m\u001b[0;34m(\u001b[0m\u001b[0;34m*\u001b[0m\u001b[0ma\u001b[0m\u001b[0;34m,\u001b[0m \u001b[0;34m**\u001b[0m\u001b[0mk\u001b[0m\u001b[0;34m)\u001b[0m\u001b[0;34m\u001b[0m\u001b[0;34m\u001b[0m\u001b[0m\n\u001b[0m\u001b[1;32m    189\u001b[0m \u001b[0;34m\u001b[0m\u001b[0m\n\u001b[1;32m    190\u001b[0m         \u001b[0;32mif\u001b[0m \u001b[0mcallable\u001b[0m\u001b[0;34m(\u001b[0m\u001b[0marg\u001b[0m\u001b[0;34m)\u001b[0m\u001b[0;34m:\u001b[0m\u001b[0;34m\u001b[0m\u001b[0;34m\u001b[0m\u001b[0m\n",
            "\u001b[0;32m/usr/local/lib/python3.7/dist-packages/IPython/core/magics/execution.py\u001b[0m in \u001b[0;36mtime\u001b[0;34m(self, line, cell, local_ns)\u001b[0m\n\u001b[1;32m   1191\u001b[0m         \u001b[0;32melse\u001b[0m\u001b[0;34m:\u001b[0m\u001b[0;34m\u001b[0m\u001b[0;34m\u001b[0m\u001b[0m\n\u001b[1;32m   1192\u001b[0m             \u001b[0mst\u001b[0m \u001b[0;34m=\u001b[0m \u001b[0mclock2\u001b[0m\u001b[0;34m(\u001b[0m\u001b[0;34m)\u001b[0m\u001b[0;34m\u001b[0m\u001b[0;34m\u001b[0m\u001b[0m\n\u001b[0;32m-> 1193\u001b[0;31m             \u001b[0mexec\u001b[0m\u001b[0;34m(\u001b[0m\u001b[0mcode\u001b[0m\u001b[0;34m,\u001b[0m \u001b[0mglob\u001b[0m\u001b[0;34m,\u001b[0m \u001b[0mlocal_ns\u001b[0m\u001b[0;34m)\u001b[0m\u001b[0;34m\u001b[0m\u001b[0;34m\u001b[0m\u001b[0m\n\u001b[0m\u001b[1;32m   1194\u001b[0m             \u001b[0mend\u001b[0m \u001b[0;34m=\u001b[0m \u001b[0mclock2\u001b[0m\u001b[0;34m(\u001b[0m\u001b[0;34m)\u001b[0m\u001b[0;34m\u001b[0m\u001b[0;34m\u001b[0m\u001b[0m\n\u001b[1;32m   1195\u001b[0m             \u001b[0mout\u001b[0m \u001b[0;34m=\u001b[0m \u001b[0;32mNone\u001b[0m\u001b[0;34m\u001b[0m\u001b[0;34m\u001b[0m\u001b[0m\n",
            "\u001b[0;32m<timed exec>\u001b[0m in \u001b[0;36m<module>\u001b[0;34m()\u001b[0m\n",
            "\u001b[0;32m/usr/local/lib/python3.7/dist-packages/keras/utils/traceback_utils.py\u001b[0m in \u001b[0;36merror_handler\u001b[0;34m(*args, **kwargs)\u001b[0m\n\u001b[1;32m     65\u001b[0m     \u001b[0;32mexcept\u001b[0m \u001b[0mException\u001b[0m \u001b[0;32mas\u001b[0m \u001b[0me\u001b[0m\u001b[0;34m:\u001b[0m  \u001b[0;31m# pylint: disable=broad-except\u001b[0m\u001b[0;34m\u001b[0m\u001b[0;34m\u001b[0m\u001b[0m\n\u001b[1;32m     66\u001b[0m       \u001b[0mfiltered_tb\u001b[0m \u001b[0;34m=\u001b[0m \u001b[0m_process_traceback_frames\u001b[0m\u001b[0;34m(\u001b[0m\u001b[0me\u001b[0m\u001b[0;34m.\u001b[0m\u001b[0m__traceback__\u001b[0m\u001b[0;34m)\u001b[0m\u001b[0;34m\u001b[0m\u001b[0;34m\u001b[0m\u001b[0m\n\u001b[0;32m---> 67\u001b[0;31m       \u001b[0;32mraise\u001b[0m \u001b[0me\u001b[0m\u001b[0;34m.\u001b[0m\u001b[0mwith_traceback\u001b[0m\u001b[0;34m(\u001b[0m\u001b[0mfiltered_tb\u001b[0m\u001b[0;34m)\u001b[0m \u001b[0;32mfrom\u001b[0m \u001b[0;32mNone\u001b[0m\u001b[0;34m\u001b[0m\u001b[0;34m\u001b[0m\u001b[0m\n\u001b[0m\u001b[1;32m     68\u001b[0m     \u001b[0;32mfinally\u001b[0m\u001b[0;34m:\u001b[0m\u001b[0;34m\u001b[0m\u001b[0;34m\u001b[0m\u001b[0m\n\u001b[1;32m     69\u001b[0m       \u001b[0;32mdel\u001b[0m \u001b[0mfiltered_tb\u001b[0m\u001b[0;34m\u001b[0m\u001b[0;34m\u001b[0m\u001b[0m\n",
            "\u001b[0;32m/usr/local/lib/python3.7/dist-packages/tensorflow/python/eager/execute.py\u001b[0m in \u001b[0;36mquick_execute\u001b[0;34m(op_name, num_outputs, inputs, attrs, ctx, name)\u001b[0m\n\u001b[1;32m     53\u001b[0m     \u001b[0mctx\u001b[0m\u001b[0;34m.\u001b[0m\u001b[0mensure_initialized\u001b[0m\u001b[0;34m(\u001b[0m\u001b[0;34m)\u001b[0m\u001b[0;34m\u001b[0m\u001b[0;34m\u001b[0m\u001b[0m\n\u001b[1;32m     54\u001b[0m     tensors = pywrap_tfe.TFE_Py_Execute(ctx._handle, device_name, op_name,\n\u001b[0;32m---> 55\u001b[0;31m                                         inputs, attrs, num_outputs)\n\u001b[0m\u001b[1;32m     56\u001b[0m   \u001b[0;32mexcept\u001b[0m \u001b[0mcore\u001b[0m\u001b[0;34m.\u001b[0m\u001b[0m_NotOkStatusException\u001b[0m \u001b[0;32mas\u001b[0m \u001b[0me\u001b[0m\u001b[0;34m:\u001b[0m\u001b[0;34m\u001b[0m\u001b[0;34m\u001b[0m\u001b[0m\n\u001b[1;32m     57\u001b[0m     \u001b[0;32mif\u001b[0m \u001b[0mname\u001b[0m \u001b[0;32mis\u001b[0m \u001b[0;32mnot\u001b[0m \u001b[0;32mNone\u001b[0m\u001b[0;34m:\u001b[0m\u001b[0;34m\u001b[0m\u001b[0;34m\u001b[0m\u001b[0m\n",
            "\u001b[0;31mInvalidArgumentError\u001b[0m: Graph execution error:\n\nDetected at node 'mul_2' defined at (most recent call last):\n    File \"/usr/lib/python3.7/runpy.py\", line 193, in _run_module_as_main\n      \"__main__\", mod_spec)\n    File \"/usr/lib/python3.7/runpy.py\", line 85, in _run_code\n      exec(code, run_globals)\n    File \"/usr/local/lib/python3.7/dist-packages/ipykernel_launcher.py\", line 16, in <module>\n      app.launch_new_instance()\n    File \"/usr/local/lib/python3.7/dist-packages/traitlets/config/application.py\", line 846, in launch_instance\n      app.start()\n    File \"/usr/local/lib/python3.7/dist-packages/ipykernel/kernelapp.py\", line 499, in start\n      self.io_loop.start()\n    File \"/usr/local/lib/python3.7/dist-packages/tornado/platform/asyncio.py\", line 132, in start\n      self.asyncio_loop.run_forever()\n    File \"/usr/lib/python3.7/asyncio/base_events.py\", line 541, in run_forever\n      self._run_once()\n    File \"/usr/lib/python3.7/asyncio/base_events.py\", line 1786, in _run_once\n      handle._run()\n    File \"/usr/lib/python3.7/asyncio/events.py\", line 88, in _run\n      self._context.run(self._callback, *self._args)\n    File \"/usr/local/lib/python3.7/dist-packages/tornado/platform/asyncio.py\", line 122, in _handle_events\n      handler_func(fileobj, events)\n    File \"/usr/local/lib/python3.7/dist-packages/tornado/stack_context.py\", line 300, in null_wrapper\n      return fn(*args, **kwargs)\n    File \"/usr/local/lib/python3.7/dist-packages/zmq/eventloop/zmqstream.py\", line 452, in _handle_events\n      self._handle_recv()\n    File \"/usr/local/lib/python3.7/dist-packages/zmq/eventloop/zmqstream.py\", line 481, in _handle_recv\n      self._run_callback(callback, msg)\n    File \"/usr/local/lib/python3.7/dist-packages/zmq/eventloop/zmqstream.py\", line 431, in _run_callback\n      callback(*args, **kwargs)\n    File \"/usr/local/lib/python3.7/dist-packages/tornado/stack_context.py\", line 300, in null_wrapper\n      return fn(*args, **kwargs)\n    File \"/usr/local/lib/python3.7/dist-packages/ipykernel/kernelbase.py\", line 283, in dispatcher\n      return self.dispatch_shell(stream, msg)\n    File \"/usr/local/lib/python3.7/dist-packages/ipykernel/kernelbase.py\", line 233, in dispatch_shell\n      handler(stream, idents, msg)\n    File \"/usr/local/lib/python3.7/dist-packages/ipykernel/kernelbase.py\", line 399, in execute_request\n      user_expressions, allow_stdin)\n    File \"/usr/local/lib/python3.7/dist-packages/ipykernel/ipkernel.py\", line 208, in do_execute\n      res = shell.run_cell(code, store_history=store_history, silent=silent)\n    File \"/usr/local/lib/python3.7/dist-packages/ipykernel/zmqshell.py\", line 537, in run_cell\n      return super(ZMQInteractiveShell, self).run_cell(*args, **kwargs)\n    File \"/usr/local/lib/python3.7/dist-packages/IPython/core/interactiveshell.py\", line 2718, in run_cell\n      interactivity=interactivity, compiler=compiler, result=result)\n    File \"/usr/local/lib/python3.7/dist-packages/IPython/core/interactiveshell.py\", line 2828, in run_ast_nodes\n      if self.run_code(code, result):\n    File \"/usr/local/lib/python3.7/dist-packages/IPython/core/interactiveshell.py\", line 2882, in run_code\n      exec(code_obj, self.user_global_ns, self.user_ns)\n    File \"<ipython-input-79-f649a56ecece>\", line 1, in <module>\n      get_ipython().run_cell_magic('time', '', 'red_lr= ReduceLROnPlateau(monitor=\\'val_loss\\',patience=9,verbose=2,factor=0.001,min_delta=0.01)\\nfilepath = r\"/content/drive/MyDrive/final-mid/od.h5\"#-{epoch:02d}-{loss:.4f}-{accuracy:.4f}-{get_f1:.4f}-{val_loss:.4f}-{val_accuracy:.4f}-{val_get_f1:.4f}.h5\"\\ncheck=ModelCheckpoint(filepath = filepath, verbose = 1, save_best_only = True)\\n\\nH = model.fit(\\n    trainX, trainY,\\n    validation_data=(testX, testY),\\n    callbacks = [check, ],\\n    batch_size=8,\\n    epochs=60,\\n    #sample_weight=cl,\\n    verbose=2,\\n  )')\n    File \"/usr/local/lib/python3.7/dist-packages/IPython/core/interactiveshell.py\", line 2117, in run_cell_magic\n      result = fn(magic_arg_s, cell)\n    File \"<decorator-gen-53>\", line 2, in time\n    File \"/usr/local/lib/python3.7/dist-packages/IPython/core/magic.py\", line 188, in <lambda>\n      call = lambda f, *a, **k: f(*a, **k)\n    File \"/usr/local/lib/python3.7/dist-packages/IPython/core/magics/execution.py\", line 1193, in time\n      exec(code, glob, local_ns)\n    File \"<timed exec>\", line 12, in <module>\n    File \"/usr/local/lib/python3.7/dist-packages/keras/utils/traceback_utils.py\", line 64, in error_handler\n      return fn(*args, **kwargs)\n    File \"/usr/local/lib/python3.7/dist-packages/keras/engine/training.py\", line 1384, in fit\n      tmp_logs = self.train_function(iterator)\n    File \"/usr/local/lib/python3.7/dist-packages/keras/engine/training.py\", line 1021, in train_function\n      return step_function(self, iterator)\n    File \"/usr/local/lib/python3.7/dist-packages/keras/engine/training.py\", line 1010, in step_function\n      outputs = model.distribute_strategy.run(run_step, args=(data,))\n    File \"/usr/local/lib/python3.7/dist-packages/keras/engine/training.py\", line 1000, in run_step\n      outputs = model.train_step(data)\n    File \"/usr/local/lib/python3.7/dist-packages/keras/engine/training.py\", line 864, in train_step\n      return self.compute_metrics(x, y, y_pred, sample_weight)\n    File \"/usr/local/lib/python3.7/dist-packages/keras/engine/training.py\", line 957, in compute_metrics\n      self.compiled_metrics.update_state(y, y_pred, sample_weight)\n    File \"/usr/local/lib/python3.7/dist-packages/keras/engine/compile_utils.py\", line 459, in update_state\n      metric_obj.update_state(y_t, y_p, sample_weight=mask)\n    File \"/usr/local/lib/python3.7/dist-packages/keras/utils/metrics_utils.py\", line 70, in decorated\n      update_op = update_state_fn(*args, **kwargs)\n    File \"/usr/local/lib/python3.7/dist-packages/keras/metrics.py\", line 178, in update_state_fn\n      return ag_update_state(*args, **kwargs)\n    File \"/usr/local/lib/python3.7/dist-packages/keras/metrics.py\", line 729, in update_state\n      matches = ag_fn(y_true, y_pred, **self._fn_kwargs)\n    File \"<ipython-input-61-ab8fb5bb7547>\", line 41, in dice_metric\n      return dice(y_true_f, y_pred_f)\n    File \"<ipython-input-61-ab8fb5bb7547>\", line 33, in dice\n      intersection = 2 * K.sum(y_true_f * y_pred_f, axis=1)\nNode: 'mul_2'\nrequired broadcastable shapes\n\t [[{{node mul_2}}]] [Op:__inference_train_function_16445]"
          ]
        }
      ]
    },
    {
      "cell_type": "code",
      "source": [
        "%%time\n",
        "red_lr= ReduceLROnPlateau(monitor='val_loss',patience=9,verbose=2,factor=0.001,min_delta=0.01)\n",
        "filepath = r\"/content/drive/MyDrive/eye_glaucoma/od_1.h5\"#-{epoch:02d}-{loss:.4f}-{accuracy:.4f}-{get_f1:.4f}-{val_loss:.4f}-{val_accuracy:.4f}-{val_get_f1:.4f}.h5\"\n",
        "check=ModelCheckpoint(filepath = filepath, verbose = 1, save_best_only = True)\n",
        "\n",
        "H = model.fit(\n",
        "    trainX, trainY,\n",
        "    validation_data=(testX, testY),\n",
        "    callbacks = [check, ],\n",
        "    batch_size=8,\n",
        "    epochs=30,\n",
        "    #sample_weight=cl,\n",
        "    verbose=2,\n",
        "  )"
      ],
      "metadata": {
        "id": "3VNNZDBI2s_-"
      },
      "execution_count": null,
      "outputs": []
    },
    {
      "cell_type": "code",
      "source": [
        "l = open('/content/drive/MyDrive/eye_glaucoma/OC_output_images/log.txt', 'w')\n",
        "l.close()"
      ],
      "metadata": {
        "id": "w7A2GGc43B05"
      },
      "execution_count": null,
      "outputs": []
    },
    {
      "cell_type": "code",
      "source": [
        "#Acuuracy plot\n",
        "plt.plot(H.history['accuracy'])\n",
        "plt.plot(H.history['val_accuracy'])\n",
        "plt.title('model accuracy')\n",
        "plt.ylabel('accuracy')\n",
        "plt.xlabel('epoch')\n",
        "plt.legend(['train', 'val'], loc='upper left')\n",
        "plt.show()"
      ],
      "metadata": {
        "id": "O1XMYVEE3Due"
      },
      "execution_count": null,
      "outputs": []
    },
    {
      "cell_type": "code",
      "source": [
        "plt.plot(H.history['get_f1'])\n",
        "plt.plot(H.history['val_get_f1'])\n",
        "plt.title('model F1')\n",
        "plt.ylabel('F1-Score')\n",
        "plt.xlabel('epoch')\n",
        "plt.legend(['train', 'val'], loc='upper left')\n",
        "plt.show()"
      ],
      "metadata": {
        "id": "12oJrzT73Hg_"
      },
      "execution_count": null,
      "outputs": []
    },
    {
      "cell_type": "code",
      "source": [
        "#Loss plot\n",
        "plt.plot(H.history['loss'])\n",
        "plt.plot(H.history['val_loss'])\n",
        "plt.title('model loss')\n",
        "plt.ylabel('loss')\n",
        "plt.xlabel('epoch')\n",
        "plt.legend(['train', 'val'], loc='upper left')\n",
        "plt.show()"
      ],
      "metadata": {
        "id": "iufXIWyh3J38"
      },
      "execution_count": null,
      "outputs": []
    },
    {
      "cell_type": "code",
      "source": [
        "plt.plot(H.history['mean_IOU_gpu'])\n",
        "plt.plot(H.history['val_mean_IOU_gpu'])\n",
        "plt.title('model mean_IOU')\n",
        "plt.ylabel('mean_IOU')\n",
        "plt.xlabel('epoch')\n",
        "plt.legend(['train', 'val'], loc='upper left')\n",
        "plt.show()"
      ],
      "metadata": {
        "id": "SlhK9fH93NDS"
      },
      "execution_count": null,
      "outputs": []
    },
    {
      "cell_type": "code",
      "source": [
        "#testing"
      ],
      "metadata": {
        "id": "f7DvDHUH3Pks"
      },
      "execution_count": null,
      "outputs": []
    },
    {
      "cell_type": "code",
      "source": [
        "model = load_model(\"/content/drive/MyDrive/eye_glaucoma/od_1.h5\", custom_objects={'lossFunc': lossFunc, 'get_f1' : get_f1, 'mean_IOU_gpu':mean_IOU_gpu})\n",
        "\n",
        "\n",
        "def classify_image(inp):\n",
        "  img_final = inp.copy()\n",
        "  inp = inp.reshape((1, 224, 224, 3))\n",
        "  inp = inp/255\n",
        "  pred = model.predict(inp)\n",
        "  pp = pred[0]\n",
        "  bg = pp[:,:,0]\n",
        "  od = pp[:,:,1]\n",
        "  bg = bg*255\n",
        "  od = od*255\n",
        "  bg[bg>=127] = 255\n",
        "  bg[bg<127] = 0\n",
        "  od[od>=127] = 255\n",
        "  od[od<127] = 0\n",
        "  flag = None\n",
        "  output = None\n",
        "  if(255 in list(np.unique(od))):\n",
        "    flag = od\n",
        "  \n",
        "  flag = flag.astype(np.uint8)\n",
        "  flag = cv2.cvtColor(flag,cv2.COLOR_GRAY2BGR)\n",
        "  flag[np.where((flag==[255, 255, 255]).all(axis=2))] = [0,255,0]\n",
        "  cv2.addWeighted(flag, 0.2, img_final.copy(), 1 - 0.2, 0, flag)\n",
        "  final_output = cv2.hconcat([img_final, flag])\n",
        "  return(final_output)"
      ],
      "metadata": {
        "id": "y5dSnaIl3R2V"
      },
      "execution_count": null,
      "outputs": []
    },
    {
      "cell_type": "code",
      "source": [
        "for i in os.listdir('/content/drive/MyDrive/eye_glaucoma/OD_output_images'):\n",
        "  if('_' not in i):\n",
        "    os.remove('/content/drive/MyDrive/eye_glaucoma/OD_output_images/'+i)"
      ],
      "metadata": {
        "id": "A_o7j8GT3UeK"
      },
      "execution_count": null,
      "outputs": []
    },
    {
      "cell_type": "code",
      "source": [
        "out = []\n",
        "imgs = []\n",
        "for i in tq(os.listdir('/content/drive/MyDrive/eye_glaucoma/RIM-ONE r3/Healthy/Stereo Images')):\n",
        "  img = cv2.imread('/content/drive/MyDrive/eye_glaucoma/RIM-ONE r3/Healthy/Stereo Images/'+i)\n",
        "  img1 = img[0:1424, 0:1072]\n",
        "  img2 = img[0:1424, 1072:]\n",
        "  img1 = cv2.resize(img1, (224, 224))\n",
        "  img2 = cv2.resize(img2, (224, 224))\n",
        "\n",
        "  o = classify_image(img1)\n",
        "  cv2.imwrite('/content/drive/MyDrive/eye_glaucoma/OD_output_images/'+i.split('.')[0]+'_l.png', o)\n",
        "  o = classify_image(img2)\n",
        "  cv2.imwrite('/content/drive/MyDrive/eye_glaucoma/OD_output_images/'+i.split('.')[0]+'_r.png', o)"
      ],
      "metadata": {
        "id": "4H0g90zY3WaT"
      },
      "execution_count": null,
      "outputs": []
    },
    {
      "cell_type": "code",
      "source": [],
      "metadata": {
        "id": "MmG9IkOW3aSg"
      },
      "execution_count": null,
      "outputs": []
    },
    {
      "cell_type": "code",
      "source": [],
      "metadata": {
        "id": "xTl1n0FU3gAc"
      },
      "execution_count": null,
      "outputs": []
    },
    {
      "cell_type": "code",
      "source": [],
      "metadata": {
        "id": "zv2EVNyN3gQn"
      },
      "execution_count": null,
      "outputs": []
    },
    {
      "cell_type": "code",
      "source": [
        "#OC"
      ],
      "metadata": {
        "id": "2nFC-FeT3gyo"
      },
      "execution_count": null,
      "outputs": []
    },
    {
      "cell_type": "code",
      "source": [
        "x = []\n",
        "y = []\n",
        "#path1 = '/content/drive/MyDrive/eye_glaucoma/RIM-ONE r3/Glaucoma and suspects/'\n",
        "#path2 = '/content/drive/MyDrive/eye_glaucoma/RIM-ONE r3/Healthy/'\n",
        "for path in [path1, path2]:\n",
        "  for img_name in tq(natsorted(os.listdir(os.path.join(path, 'Stereo Images')))):\n",
        "    x_img = cv2.imread(os.path.join(path, 'Stereo Images', img_name))\n",
        "    mask_name = img_name.split('.')[0]+'-Cup-Avg.png'\n",
        "    mask_img = cv2.imread(os.path.join(path, 'Average_masks', mask_name), 0)\n",
        "    mask_img1 = mask_img[0:1424, 0:1072]\n",
        "    mask_img2 = mask_img[0:1424, 1072:]\n",
        "    \n",
        "    if(255 in list(np.unique(mask_img1))):\n",
        "      x_img = x_img[0:1424, 0:1072]\n",
        "      x_img = cv2.resize(x_img, (224, 224))\n",
        "\n",
        "      y_img = mask_img1.copy()\n",
        "      y_img = cv2.resize(y_img, (224, 224))\n",
        "      y_img[y_img<127] = 0\n",
        "      y_img[y_img>=127] = 255\n",
        "      \n",
        "    elif(255 in list(np.unique(mask_img2))):\n",
        "      x_img = x_img[0:1424, 1072:]\n",
        "      x_img = cv2.resize(x_img, (224, 224))\n",
        "\n",
        "      y_img = mask_img2.copy()\n",
        "      y_img = cv2.resize(y_img, (224, 224))\n",
        "      y_img[y_img<127] = 0\n",
        "      y_img[y_img>=127] = 255\n",
        "\n",
        "    else:\n",
        "      print('Not good', img_name, mask_name)\n",
        "\n",
        "    x.append(x_img)\n",
        "    y.append(y_img)\n",
        "    x.append(cv2.flip(x_img, 0))\n",
        "    y.append(cv2.flip(y_img, 0))\n",
        "    x.append(cv2.flip(x_img, 1))\n",
        "    y.append(cv2.flip(y_img, 1))\n",
        "    x.append(cv2.flip(x_img, -1))\n",
        "    y.append(cv2.flip(y_img, -1))\n",
        "\n",
        "x = np.array(x)\n",
        "y = np.array(y)"
      ],
      "metadata": {
        "id": "zEvu3WNf3h5r"
      },
      "execution_count": null,
      "outputs": []
    },
    {
      "cell_type": "code",
      "source": [
        "x.shape, y.shape"
      ],
      "metadata": {
        "id": "foYiqrvW3jsf"
      },
      "execution_count": null,
      "outputs": []
    },
    {
      "cell_type": "code",
      "source": [
        "ind = 250\n",
        "cv2_imshow(cv2.hconcat([x[ind], cv2.merge([y[ind], y[ind], y[ind]])]))"
      ],
      "metadata": {
        "id": "zfZ02zGJ3lvl"
      },
      "execution_count": null,
      "outputs": []
    },
    {
      "cell_type": "code",
      "source": [
        "np.unique(y)"
      ],
      "metadata": {
        "id": "LgBF7-EL3nLm"
      },
      "execution_count": null,
      "outputs": []
    },
    {
      "cell_type": "code",
      "source": [
        "y[y==255] = 1\n",
        "np.unique(y, return_counts=True)"
      ],
      "metadata": {
        "id": "9cRBwUSt3pRQ"
      },
      "execution_count": null,
      "outputs": []
    },
    {
      "cell_type": "code",
      "source": [
        "y = to_categorical(y, 2)\n",
        "y[10][112][112]"
      ],
      "metadata": {
        "id": "2wqCNzN_3rAD"
      },
      "execution_count": null,
      "outputs": []
    },
    {
      "cell_type": "code",
      "source": [
        "y.shape"
      ],
      "metadata": {
        "id": "-5sz3thF3tDw"
      },
      "execution_count": null,
      "outputs": []
    },
    {
      "cell_type": "code",
      "source": [
        "x = x/255\n",
        "x.shape"
      ],
      "metadata": {
        "id": "4b2v2_6_3utv"
      },
      "execution_count": null,
      "outputs": []
    },
    {
      "cell_type": "code",
      "source": [
        "(trainX, testX, trainY, testY) = train_test_split(x,\n",
        "    y, test_size=0.2, random_state=11)\n",
        " \n",
        "x = y = nps = uni = Y = y_images = 0\n",
        "trainX.shape, testX.shape, trainY.shape, testY.shape"
      ],
      "metadata": {
        "id": "-bdZfe0B3wt_"
      },
      "execution_count": null,
      "outputs": []
    },
    {
      "cell_type": "code",
      "source": [
        "x_img = y_img = y_images = mask_img1 = mask_img2 = im = img_name = mask_img = 0"
      ],
      "metadata": {
        "id": "J6hvEr9B3yrX"
      },
      "execution_count": null,
      "outputs": []
    },
    {
      "cell_type": "code",
      "source": [
        "from keras.callbacks import Callback,ModelCheckpoint\n",
        "from keras.models import Sequential,load_model\n",
        "from keras.layers import Dense, Dropout\n",
        "from keras.wrappers.scikit_learn import KerasClassifier\n",
        "import keras.backend as K\n",
        "def get_f1(y_true, y_pred): #taken from old keras source code\n",
        "    true_positives = K.sum(K.round(K.clip(y_true * y_pred, 0, 1)))\n",
        "    possible_positives = K.sum(K.round(K.clip(y_true, 0, 1)))\n",
        "    predicted_positives = K.sum(K.round(K.clip(y_pred, 0, 1)))\n",
        "    precision = true_positives / (predicted_positives + K.epsilon())\n",
        "    recall = true_positives / (possible_positives + K.epsilon())\n",
        "    f1_val = 2*(precision*recall)/(precision+recall+K.epsilon())\n",
        "    return f1_val"
      ],
      "metadata": {
        "id": "HFv_FLNa30gt"
      },
      "execution_count": null,
      "outputs": []
    },
    {
      "cell_type": "code",
      "source": [
        "yy = []\n",
        "for i in range(15771494):\n",
        "  yy.append([0])\n",
        "for i in range(184474):\n",
        "  yy.append([1])\n",
        "yy = np.array(yy)\n",
        "print(yy.shape)"
      ],
      "metadata": {
        "id": "vNCP0TpI32HF"
      },
      "execution_count": null,
      "outputs": []
    },
    {
      "cell_type": "code",
      "source": [
        "from sklearn.utils import class_weight\n",
        "print(yy.shape)\n",
        "yy = yy.reshape(15955968)\n",
        "print(yy.shape)\n",
        "print(np.unique(yy))\n",
        "class_weights = class_weight.compute_class_weight(class_weight='balanced', classes=np.unique(yy), y=yy)\n",
        "class_weights"
      ],
      "metadata": {
        "id": "pEqT1Aoe34pW"
      },
      "execution_count": null,
      "outputs": []
    },
    {
      "cell_type": "code",
      "source": [
        "yy=0\n",
        "img1 = img2 = mask_img = o= o1 = 0"
      ],
      "metadata": {
        "id": "MgmMXBnH36Ik"
      },
      "execution_count": null,
      "outputs": []
    },
    {
      "cell_type": "code",
      "source": [
        "#od\n",
        "[ 0.5217884 , 11.97399276]\n",
        "#oc\n",
        "[ 0.50584834, 43.24720015]"
      ],
      "metadata": {
        "id": "GgwBXYnK37x4"
      },
      "execution_count": null,
      "outputs": []
    },
    {
      "cell_type": "code",
      "source": [
        "def lossFunc(true, pred):\n",
        "\n",
        "      axis = -1 #if channels last \n",
        "      #axis=  1 #if channels first\n",
        "      weightsList = [ 0.50584834, 43.24720015]\n",
        "      #argmax returns the index of the element with the greatest value\n",
        "      #done in the class axis, it returns the class index    \n",
        "      classSelectors = K.argmax(true, axis=axis) \n",
        "      #if your loss is sparse, use only true as classSelectors\n",
        "      #print('classSelectors1', classSelectors.shape)\n",
        "      #considering weights are ordered by class, for each class\n",
        "      #true(1) if the class index is equal to the weight index   \n",
        "      classSelectors = [K.equal(K.cast(i,tf.int64), classSelectors) for i in range(len(weightsList))]\n",
        "      #print('classSelectors2', classSelectors)\n",
        "      #for i in classSelectors:\n",
        "      #  print(i)\n",
        "      #print(\"!!!!!!!!!!!!!\")\n",
        "      #casting boolean to float for calculations  \n",
        "      #each tensor in the list contains 1 where ground true class is equal to its index \n",
        "      #if you sum all these, you will get a tensor full of ones. \n",
        "      classSelectors = [K.cast(x, K.floatx()) for x in classSelectors]\n",
        "      #print('classSelectors3', classSelectors)\n",
        "\n",
        "      #for each of the selections above, multiply their respective weight\n",
        "      weights = [sel * w for sel,w in zip(classSelectors, weightsList)] \n",
        "      #print('weights', weights)\n",
        "\n",
        "      #sums all the selections\n",
        "      #result is a tensor with the respective weight for each element in predictions\n",
        "      weightMultiplier = weights[0]\n",
        "      for i in range(1, len(weights)):\n",
        "          weightMultiplier = weightMultiplier + weights[i]\n",
        "      #print('weightMultiplier', weightMultiplier, type(weightMultiplier))#, K.print_tensor(weightMultiplier, message=\"wm\"))\n",
        "      #make sure your originalLossFunc only collapses the class axis\n",
        "      #you need the other axes intact to multiply the weights tensor\n",
        "      loss = keras.losses.categorical_crossentropy(true,pred) \n",
        "      #print('loss', loss.shape, loss)\n",
        "      loss = loss * weightMultiplier\n",
        "\n",
        "      return loss"
      ],
      "metadata": {
        "id": "IBfkTaG538-2"
      },
      "execution_count": null,
      "outputs": []
    },
    {
      "cell_type": "code",
      "source": [
        "def mean_IOU_gpu(X, Y):\n",
        "    \"\"\"Computes mean Intersection-over-Union (IOU) for two arrays of binary images.\n",
        "    Assuming X and Y are of shape (n_images, w, h).\"\"\"\n",
        "    \n",
        "    #X_fl = K.clip(K.batch_flatten(X), K.epsilon(), 1.)\n",
        "    #Y_fl = K.clip(K.batch_flatten(Y), K.epsilon(), 1.)\n",
        "    X_fl = K.clip(K.batch_flatten(X), 0., 1.)\n",
        "    Y_fl = K.clip(K.batch_flatten(Y), 0., 1.)\n",
        "    X_fl = K.cast(K.greater(X_fl, 0.5), 'float32')\n",
        "    Y_fl = K.cast(K.greater(Y_fl, 0.5), 'float32')\n",
        "\n",
        "    intersection = K.sum(X_fl * Y_fl, axis=1)\n",
        "    union = K.sum(K.maximum(X_fl, Y_fl), axis=1)\n",
        "    # if union == 0, it follows that intersection == 0 => score should be 0.\n",
        "    union = K.switch(K.equal(union, 0), K.ones_like(union), union)\n",
        "    return K.mean(intersection / K.cast(union, 'float32'))\n",
        "\n",
        "\n",
        "def mean_IOU_gpu_loss(X, Y):\n",
        "    return -mean_IOU_gpu(X, Y)\n",
        "\n",
        "def dice(y_true, y_pred):\n",
        "    # Workaround for shape bug. For some reason y_true shape was not being set correctly\n",
        "    #y_true.set_shape(y_pred.get_shape())\n",
        "\n",
        "    # Without K.clip, K.sum() behaves differently when compared to np.count_nonzero()\n",
        "    #y_true_f = K.clip(K.batch_flatten(y_true), K.epsilon(), 1.)\n",
        "    #y_pred_f = K.clip(K.batch_flatten(y_pred), K.epsilon(), 1.)\n",
        "    y_true_f = K.clip(K.batch_flatten(y_true), 0., 1.)\n",
        "    y_pred_f = K.clip(K.batch_flatten(y_pred), 0., 1.)\n",
        "    #y_pred_f = K.greater(y_pred_f, 0.5)\n",
        "\n",
        "    intersection = 2 * K.sum(y_true_f * y_pred_f, axis=1)\n",
        "    union = K.sum(y_true_f * y_true_f, axis=1) + K.sum(y_pred_f * y_pred_f, axis=1)\n",
        "    return K.mean(intersection / union)\n",
        "\n",
        "def dice_metric(y_true, y_pred):\n",
        "    \"\"\"An exact Dice score for binary tensors.\"\"\"\n",
        "    y_true_f = K.cast(K.greater(y_true, 0.5), 'float32')\n",
        "    y_pred_f = K.cast(K.greater(y_pred, 0.5), 'float32')\n",
        "    return dice(y_true_f, y_pred_f)"
      ],
      "metadata": {
        "id": "HL2zE6Y44AWj"
      },
      "execution_count": null,
      "outputs": []
    },
    {
      "cell_type": "code",
      "source": [
        "input = Input((224, 224, 3))\n",
        "c0 = Conv2D(filters=64,kernel_size=(3,3),padding=\"same\", activation=\"relu\")(input)\n",
        "c0 = Conv2D(filters=64,kernel_size=(3,3),padding=\"same\", activation=\"relu\")(c0)\n",
        "m0 = MaxPooling2D(pool_size=(2,2),strides=(2,2))(c0)\n",
        "d0 = Dropout(0.2)(m0)\n",
        "\n",
        "c1 = Conv2D(filters=128, kernel_size=(3,3), padding=\"same\", activation=\"relu\")(d0)\n",
        "c1 = Conv2D(filters=128, kernel_size=(3,3), padding=\"same\", activation=\"relu\")(c1)\n",
        "m1 = MaxPooling2D(pool_size=(2,2),strides=(2,2))(c1)\n",
        "d1 = Dropout(0.3)(m1)\n",
        "\n",
        "c2 = Conv2D(filters=256, kernel_size=(3,3), padding=\"same\", activation=\"relu\")(d1)\n",
        "c2 = Conv2D(filters=256, kernel_size=(3,3), padding=\"same\", activation=\"relu\")(c2)\n",
        "c2 = Conv2D(filters=256, kernel_size=(3,3), padding=\"same\", activation=\"relu\")(c2)\n",
        "m2 = MaxPooling2D(pool_size=(2,2),strides=(2,2))(c2)\n",
        "d2 = Dropout(0.3)(m2)\n",
        "\n",
        "c3 = Conv2D(filters=512, kernel_size=(3,3), padding=\"same\", activation=\"relu\")(d2)\n",
        "c3 = Conv2D(filters=512, kernel_size=(3,3), padding=\"same\", activation=\"relu\")(c3)\n",
        "c3 = Conv2D(filters=512, kernel_size=(3,3), padding=\"same\", activation=\"relu\")(c3)\n",
        "m3 = MaxPooling2D(pool_size=(2,2),strides=(2,2))(c3)\n",
        "d3 = Dropout(0.4)(m3)\n",
        "\n",
        "c4 = Conv2D(filters=512, kernel_size=(3,3), padding=\"same\", activation=\"relu\")(d3)\n",
        "c4 = Conv2D(filters=512, kernel_size=(3,3), padding=\"same\", activation=\"relu\")(c4)\n",
        "c4 = Conv2D(filters=512, kernel_size=(3,3), padding=\"same\", activation=\"relu\")(c4)\n",
        "m4 = MaxPooling2D(pool_size=(2,2),strides=(2,2))(c4)\n",
        "d4 = Dropout(0.3)(m4)\n",
        "\n",
        "dc0 = Conv2DTranspose(512, (3, 3), strides = (2, 2), padding = 'same')(d4)\n",
        "dc0 = concatenate([dc0, c4])\n",
        "d5 = Dropout(0.4)(dc0)\n",
        "dec0 = Conv2D(filters=512, kernel_size=(3,3), padding=\"same\", activation=\"relu\")(d5)\n",
        "dec0 = Conv2D(filters=512, kernel_size=(3,3), padding=\"same\", activation=\"relu\")(dec0)\n",
        " \n",
        "dc1 = Conv2DTranspose(256, (3, 3), strides = (2, 2), padding = 'same')(dec0)\n",
        "dc1 = concatenate([dc1, c3])\n",
        "d6 = Dropout(0.4)(dc1)\n",
        "dec1 = Conv2D(filters=256, kernel_size=(3,3), padding=\"same\", activation=\"relu\")(d6)\n",
        "dec1 = Conv2D(filters=256, kernel_size=(3,3), padding=\"same\", activation=\"relu\")(dec1)\n",
        " \n",
        "dc2 = Conv2DTranspose(128, (3, 3), strides = (2, 2), padding = 'same')(dec1)\n",
        "dc2 = concatenate([dc2, c2])\n",
        "d7 = Dropout(0.4)(dc2)\n",
        "dec2 = Conv2D(filters=128, kernel_size=(3,3), padding=\"same\", activation=\"relu\")(d7)\n",
        "dec2 = Conv2D(filters=128, kernel_size=(3,3), padding=\"same\", activation=\"relu\")(dec2)\n",
        " \n",
        "dc3 = Conv2DTranspose(64, (3, 3), strides = (2, 2), padding = 'same')(dec2)\n",
        "dc3 = concatenate([dc3, c1])\n",
        "d8 = Dropout(0.4)(dc3)\n",
        "dec3 = Conv2D(filters=64, kernel_size=(3,3), padding=\"same\", activation=\"relu\")(d8)\n",
        "dec3 = Conv2D(filters=64, kernel_size=(3,3), padding=\"same\", activation=\"relu\")(dec3)\n",
        " \n",
        "dc4 = Conv2DTranspose(32, (3, 3), strides = (2, 2), padding = 'same')(dec3)\n",
        "dc4 = concatenate([dc4, c0])\n",
        "d9 = Dropout(0.4)(dc4)\n",
        "dec4 = Conv2D(filters=32, kernel_size=(3,3), padding=\"same\", activation=\"relu\")(d9)\n",
        "dec4 = Conv2D(filters=2, kernel_size=(3,3), padding=\"same\", activation=\"softmax\")(dec4)\n",
        "\n",
        "model = Model(inputs=[input], outputs=[dec4])\n",
        "model.summary()"
      ],
      "metadata": {
        "id": "uP2MAiNn4EON"
      },
      "execution_count": null,
      "outputs": []
    },
    {
      "cell_type": "code",
      "source": [
        "model = load_model(\"/content/drive/MyDrive/eye_glaucoma/oc.h5\", custom_objects={'lossFunc': lossFunc, 'get_f1' : get_f1, 'mean_IOU_gpu':mean_IOU_gpu})"
      ],
      "metadata": {
        "id": "_T6s69XN4Zka"
      },
      "execution_count": null,
      "outputs": []
    },
    {
      "cell_type": "code",
      "source": [
        "model.compile(optimizer=Adam(0.0001),\n",
        "              loss=lossFunc,\n",
        "              metrics=[mean_IOU_gpu, 'accuracy', get_f1])"
      ],
      "metadata": {
        "id": "XdFxWtRT4cYT"
      },
      "execution_count": null,
      "outputs": []
    },
    {
      "cell_type": "code",
      "source": [
        "%%time\n",
        "red_lr= ReduceLROnPlateau(monitor='val_loss',patience=9,verbose=2,factor=0.001,min_delta=0.01)\n",
        "filepath = r\"/content/drive/MyDrive/eye_glaucoma/oc_11.h5\"#-{epoch:02d}-{loss:.4f}-{accuracy:.4f}-{get_f1:.4f}-{val_loss:.4f}-{val_accuracy:.4f}-{val_get_f1:.4f}.h5\"\n",
        "check=ModelCheckpoint(filepath = filepath, verbose = 1, save_best_only = True)\n",
        "\n",
        "H = model.fit(\n",
        "    trainX, trainY,\n",
        "    validation_data=(testX, testY),\n",
        "    callbacks = [check, ],\n",
        "    batch_size=8,\n",
        "    epochs=30,\n",
        "    #sample_weight=cl,\n",
        "    verbose=2,\n",
        "  )\n",
        "\n",
        "'''\n",
        "Epoch 26: val_loss improved from 0.03707 to 0.03548, saving model to /content/drive/MyDrive/eye_glaucoma/oc_2.h5\n",
        "32/32 - 32s - loss: 0.0421 - mean_IOU_gpu: 0.9571 - accuracy: 0.9780 - get_f1: 0.9780 - val_loss: 0.0355 - val_mean_IOU_gpu: 0.9605 - val_accuracy: 0.9798 - val_get_f1: 0.9798 - 32s/epoch - 1s/step\n",
        "'''"
      ],
      "metadata": {
        "id": "en7wf4DV4eth"
      },
      "execution_count": null,
      "outputs": []
    },
    {
      "cell_type": "code",
      "source": [
        "#accuracy for OD\n",
        "plt.plot(H.history['accuracy'])\n",
        "plt.plot(H.history['val_accuracy'])\n",
        "plt.title('model accuracy')\n",
        "plt.ylabel('accuracy')\n",
        "plt.xlabel('epoch')\n",
        "plt.legend(['train', 'val'], loc='upper left')\n",
        "plt.show()"
      ],
      "metadata": {
        "id": "EMMrtdcM4hqV"
      },
      "execution_count": null,
      "outputs": []
    },
    {
      "cell_type": "code",
      "source": [
        "plt.plot(H.history['get_f1'])\n",
        "plt.plot(H.history['val_get_f1'])\n",
        "plt.title('model F1')\n",
        "plt.ylabel('F1-Score')\n",
        "plt.xlabel('epoch')\n",
        "plt.legend(['train', 'val'], loc='upper left')\n",
        "plt.show()"
      ],
      "metadata": {
        "id": "5v5M_3j34mew"
      },
      "execution_count": null,
      "outputs": []
    },
    {
      "cell_type": "code",
      "source": [
        "#Loss plot for OD\n",
        "plt.plot(H.history['loss'])\n",
        "plt.plot(H.history['val_loss'])\n",
        "plt.title('model loss')\n",
        "plt.ylabel('loss')\n",
        "plt.xlabel('epoch')\n",
        "plt.legend(['train', 'val'], loc='upper left')\n",
        "plt.show()"
      ],
      "metadata": {
        "id": "MpqUQz5t4pJw"
      },
      "execution_count": null,
      "outputs": []
    },
    {
      "cell_type": "code",
      "source": [
        "plt.plot(H.history['mean_IOU_gpu'])\n",
        "plt.plot(H.history['val_mean_IOU_gpu'])\n",
        "plt.title('model mean_IOU')\n",
        "plt.ylabel('mean_IOU')\n",
        "plt.xlabel('epoch')\n",
        "plt.legend(['train', 'val'], loc='upper left')\n",
        "plt.show()"
      ],
      "metadata": {
        "id": "-SVwePqH4tSH"
      },
      "execution_count": null,
      "outputs": []
    },
    {
      "cell_type": "code",
      "source": [
        "#testing of OD"
      ],
      "metadata": {
        "id": "7Hs2MZ0z4xHb"
      },
      "execution_count": null,
      "outputs": []
    },
    {
      "cell_type": "code",
      "source": [
        "oc_segmentation_model = load_model(\"/content/drive/MyDrive/eye_glaucoma/oc.h5\", custom_objects={'lossFunc': lossFunc, 'get_f1' : get_f1, 'mean_IOU_gpu':mean_IOU_gpu})\n",
        "\n",
        "\n",
        "def oc_segmentation(inp, mask):\n",
        "  img_final = inp.copy()\n",
        "  inp = inp.reshape((1, 224, 224, 3))\n",
        "  inp = inp/255\n",
        "  pred = model.predict(inp)\n",
        "  pp = pred[0]\n",
        "  bg = pp[:,:,0]\n",
        "  od = pp[:,:,1]\n",
        "  bg = bg*255\n",
        "  od = od*255\n",
        "  bg[bg>=127] = 255\n",
        "  bg[bg<127] = 0\n",
        "  od[od>=127] = 255\n",
        "  od[od<127] = 0\n",
        "  flag = None\n",
        "  output = None\n",
        "  if(255 in list(np.unique(od))):\n",
        "    flag = od.copy()\n",
        "  \n",
        "  flag = flag.astype(np.uint8)\n",
        "  flag = cv2.cvtColor(flag,cv2.COLOR_GRAY2BGR)\n",
        "  mask1 = flag.copy()\n",
        "  flag[np.where((flag==[255, 255, 255]).all(axis=2))] = [0,255,0]\n",
        "  cv2.addWeighted(flag, 0.2, img_final.copy(), 1 - 0.2, 0, flag)\n",
        "  final_output = cv2.hconcat([img_final, flag])\n",
        "  final_output1 = cv2.hconcat([mask, mask1])\n",
        "  return(final_output, final_output1)"
      ],
      "metadata": {
        "id": "prduOSOt4zjW"
      },
      "execution_count": null,
      "outputs": []
    },
    {
      "cell_type": "code",
      "source": [
        "for i in os.listdir('/content/drive/MyDrive/eye_glaucoma/OC_output_images'):\n",
        "  os.remove('/content/drive/MyDrive/eye_glaucoma/OC_output_images/'+i)\n",
        "for i in os.listdir('/content/drive/MyDrive/eye_glaucoma/OC_output_masks'):\n",
        "  os.remove('/content/drive/MyDrive/eye_glaucoma/OC_output_masks/'+i)  "
      ],
      "metadata": {
        "id": "--LrycQn40lW"
      },
      "execution_count": null,
      "outputs": []
    },
    {
      "cell_type": "code",
      "source": [
        "out = []\n",
        "imgs = []\n",
        "for i in tq(os.listdir('/content/drive/MyDrive/eye_glaucoma/RIM-ONE r3/Glaucoma and suspects/Stereo Images')):\n",
        "  img = cv2.imread('/content/drive/MyDrive/eye_glaucoma/RIM-ONE r3/Glaucoma and suspects/Stereo Images/'+i)\n",
        "  img1 = img[0:1424, 0:1072]\n",
        "  img2 = img[0:1424, 1072:]\n",
        "  img1 = cv2.resize(img1, (224, 224))\n",
        "  img2 = cv2.resize(img2, (224, 224))\n",
        "\n",
        "  mask_name = i.split('.')[0]+'-Cup-Avg.png'\n",
        "  mask_img = cv2.imread('/content/drive/MyDrive/eye_glaucoma/RIM-ONE r3/Glaucoma and suspects/Average_masks/'+mask_name)\n",
        "  mask_img1 = mask_img[0:1424, 0:1072]\n",
        "  mask_img2 = mask_img[0:1424, 1072:]\n",
        "  mask_img1 = cv2.resize(mask_img1, (224, 224))\n",
        "  mask_img2 = cv2.resize(mask_img2, (224, 224))\n",
        "  try:\n",
        "    o, o1 = classify_image(img1, mask_img1)\n",
        "    cv2.imwrite('/content/drive/MyDrive/eye_glaucoma/OC_output_images/'+i.split('.')[0]+'_l.png', o)\n",
        "    cv2.imwrite('/content/drive/MyDrive/eye_glaucoma/OC_output_masks/'+i.split('.')[0]+'_l.png', o1)\n",
        "    o, o1 = classify_image(img2, mask_img2)\n",
        "    cv2.imwrite('/content/drive/MyDrive/eye_glaucoma/OC_output_images/'+i.split('.')[0]+'_r.png', o)\n",
        "    cv2.imwrite('/content/drive/MyDrive/eye_glaucoma/OC_output_masks/'+i.split('.')[0]+'_l.png', o1)\n",
        "  except:\n",
        "    print(np.unique(o), np.unique(o1))"
      ],
      "metadata": {
        "id": "i9sJJHiH42MW"
      },
      "execution_count": null,
      "outputs": []
    },
    {
      "cell_type": "code",
      "source": [
        "cv2_imshow(mask_img1)"
      ],
      "metadata": {
        "id": "3IG8-IZG446G"
      },
      "execution_count": null,
      "outputs": []
    },
    {
      "cell_type": "code",
      "source": [
        "oc_segmentation_model = load_model(\"/content/drive/MyDrive/eye_glaucoma/Sharing/oc_1.h5\", custom_objects={'lossFunc': oc_lossFunc, 'get_f1' : get_f1, 'mean_IOU_gpu':mean_IOU_gpu})\n",
        "\n",
        "\n",
        "def oc_segmentation(inp):\n",
        "  img_final = inp.copy()\n",
        "  inp = inp.reshape((1, 224, 224, 3))\n",
        "  inp = inp/255\n",
        "  pred = oc_segmentation_model.predict(inp)\n",
        "  pp = pred[0]\n",
        "  bg = pp[:,:,0]\n",
        "  od = pp[:,:,1]\n",
        "  bg = bg*255\n",
        "  od = od*255\n",
        "  bg[bg>=127] = 255\n",
        "  bg[bg<127] = 0\n",
        "  od[od>=127] = 255\n",
        "  od[od<127] = 0\n",
        "  flag = None\n",
        "  output = None\n",
        "  if(255 in list(np.unique(od))):\n",
        "    flag = od.copy()\n",
        "  \n",
        "  flag = flag.astype(np.uint8)\n",
        "  return(flag)"
      ],
      "metadata": {
        "id": "MaognmNJ46wY"
      },
      "execution_count": null,
      "outputs": []
    },
    {
      "cell_type": "code",
      "source": [
        "x = []\n",
        "y = []\n",
        "shape = []\n",
        "out = []\n",
        "path1 = '/content/drive/MyDrive/eye_glaucoma/Sharing/RIM-ONE r3/Healthy/Stereo Images'\n",
        "path2 = '/content/drive/MyDrive/eye_glaucoma/Sharing/RIM-ONE r3/Glaucoma and suspects/Stereo Images'\n",
        "\n",
        "for path in [path2]:\n",
        "  label = path.split('/')[-2]\n",
        "  for i in tq(os.listdir(path)):\n",
        "    img = cv2.imread(os.path.join(path, i))\n",
        "    img1 = img[0:1424, 0:1072]\n",
        "    img2 = img[0:1424, 1072:]\n",
        "    img1 = cv2.resize(img1, (224, 224))\n",
        "    img2 = cv2.resize(img2, (224, 224))\n",
        "\n",
        "    o1 = od_segmentation(img1)\n",
        "    o2 = od_segmentation(img2)\n",
        "\n",
        "    c1, _ = cv2.findContours(o1, cv2.RETR_EXTERNAL, cv2.CHAIN_APPROX_SIMPLE)\n",
        "    c2, _ = cv2.findContours(o2, cv2.RETR_EXTERNAL, cv2.CHAIN_APPROX_SIMPLE)\n",
        "\n",
        "    oc1 = oc_segmentation(img1)\n",
        "    oc2 = oc_segmentation(img2)\n",
        "\n",
        "    cc1, _ = cv2.findContours(oc1, cv2.RETR_EXTERNAL, cv2.CHAIN_APPROX_SIMPLE)\n",
        "    cc2, _ = cv2.findContours(oc2, cv2.RETR_EXTERNAL, cv2.CHAIN_APPROX_SIMPLE)\n",
        "\n",
        "    try:\n",
        "        xp1, yp1, w1, h1 = cv2.boundingRect(c1[0])\n",
        "        xp2, yp2, w2, h2 = cv2.boundingRect(cc1[0])\n",
        "        r1 = w2/w1\n",
        "\n",
        "        xp1, yp1, w1, h1 = cv2.boundingRect(c2[0])\n",
        "        xp2, yp2, w2, h2 = cv2.boundingRect(cc2[0])\n",
        "        r2 = w2/w1\n",
        "      \n",
        "        print('ratio', r1, r2)\n",
        "    \n",
        "    except:\n",
        "      print(i)"
      ],
      "metadata": {
        "id": "wgFNOBZz479T"
      },
      "execution_count": null,
      "outputs": []
    },
    {
      "cell_type": "code",
      "source": [
        "x = []\n",
        "y = []\n",
        "shape = []\n",
        "out = []\n",
        "path1 = '/content/drive/MyDrive/eye_glaucoma/Sharing/RIM-ONE r3/Healthy/Stereo Images'\n",
        "path2 = '/content/drive/MyDrive/eye_glaucoma/Sharing/RIM-ONE r3/Glaucoma and suspects/Stereo Images'\n",
        "\n",
        "for path in [path1]:\n",
        "  label = path.split('/')[-2]\n",
        "  for i in tq(os.listdir(path)):\n",
        "    img = cv2.imread(os.path.join(path, i))\n",
        "    img1 = img[0:1424, 0:1072]\n",
        "    img2 = img[0:1424, 1072:]\n",
        "    img1 = cv2.resize(img1, (224, 224))\n",
        "    img2 = cv2.resize(img2, (224, 224))\n",
        "\n",
        "    o1 = od_segmentation(img1)\n",
        "    o2 = od_segmentation(img2)\n",
        "\n",
        "    c1, _ = cv2.findContours(o1, cv2.RETR_EXTERNAL, cv2.CHAIN_APPROX_SIMPLE)\n",
        "    c2, _ = cv2.findContours(o2, cv2.RETR_EXTERNAL, cv2.CHAIN_APPROX_SIMPLE)\n",
        "\n",
        "    oc1 = oc_segmentation(img1)\n",
        "    oc2 = oc_segmentation(img2)\n",
        "\n",
        "    cc1, _ = cv2.findContours(oc1, cv2.RETR_EXTERNAL, cv2.CHAIN_APPROX_SIMPLE)\n",
        "    cc2, _ = cv2.findContours(oc2, cv2.RETR_EXTERNAL, cv2.CHAIN_APPROX_SIMPLE)\n",
        "\n",
        "    try:\n",
        "        xp1, yp1, w1, h1 = cv2.boundingRect(c1[0])\n",
        "        xp2, yp2, w2, h2 = cv2.boundingRect(cc1[0])\n",
        "        r1 = w2/w1\n",
        "\n",
        "        xp1, yp1, w1, h1 = cv2.boundingRect(c2[0])\n",
        "        xp2, yp2, w2, h2 = cv2.boundingRect(cc2[0])\n",
        "        r2 = w2/w1\n",
        "      \n",
        "        print('ratio', r1, r2)\n",
        "    \n",
        "    except:\n",
        "      print(i)"
      ],
      "metadata": {
        "id": "r4RoPOCQ49KZ"
      },
      "execution_count": null,
      "outputs": []
    },
    {
      "cell_type": "code",
      "source": [],
      "metadata": {
        "id": "Q4H1ng064-mi"
      },
      "execution_count": null,
      "outputs": []
    }
  ]
}