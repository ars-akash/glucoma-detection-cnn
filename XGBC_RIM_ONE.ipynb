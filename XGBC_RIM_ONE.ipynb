{
  "nbformat": 4,
  "nbformat_minor": 0,
  "metadata": {
    "colab": {
      "provenance": [],
      "authorship_tag": "ABX9TyN4Uo6WfQQpkEKN/KAxT+r2",
      "include_colab_link": true
    },
    "kernelspec": {
      "name": "python3",
      "display_name": "Python 3"
    },
    "language_info": {
      "name": "python"
    },
    "accelerator": "GPU"
  },
  "cells": [
    {
      "cell_type": "markdown",
      "metadata": {
        "id": "view-in-github",
        "colab_type": "text"
      },
      "source": [
        "<a href=\"https://colab.research.google.com/github/ars-akash/glucoma-detection-cnn/blob/main/XGBC_RIM_ONE.ipynb\" target=\"_parent\"><img src=\"https://colab.research.google.com/assets/colab-badge.svg\" alt=\"Open In Colab\"/></a>"
      ]
    },
    {
      "cell_type": "markdown",
      "source": [
        "# CLassification using XGB"
      ],
      "metadata": {
        "id": "hR1vHS6u93Hv"
      }
    },
    {
      "cell_type": "code",
      "execution_count": null,
      "metadata": {
        "id": "XkpszBiJR8IL"
      },
      "outputs": [],
      "source": [
        "import os\n",
        "import matplotlib.pyplot as plt\n",
        "import seaborn as sns\n",
        "import numpy as np\n",
        "import cv2\n",
        "import random\n",
        "from sklearn.preprocessing import LabelEncoder\n",
        "from sklearn.model_selection import cross_val_score\n",
        "from sklearn.model_selection import train_test_split\n",
        "from sklearn import metrics\n",
        "import tensorflow as tf\n",
        "import keras \n",
        "from keras.utils.np_utils import to_categorical\n",
        "from keras.applications.vgg16 import VGG16\n",
        "from keras.applications.vgg16 import preprocess_input\n",
        "from keras.preprocessing.image import load_img\n",
        "from keras.preprocessing.image import img_to_array\n",
        "from keras.models import Model\n",
        "from keras import backend as K\n",
        "from matplotlib import pyplot\n",
        "from numpy import expand_dims\n",
        "\n",
        "import tensorflow as tf\n",
        "\n",
        "from tensorflow.python.util import deprecation\n",
        "deprecation._PRINT_DEPRECATION_WARNINGS = False"
      ]
    },
    {
      "cell_type": "code",
      "source": [
        "!git clone https://github.com/seva100/optic-nerve-cnn.git"
      ],
      "metadata": {
        "colab": {
          "base_uri": "https://localhost:8080/"
        },
        "id": "A1qKQFliVz5c",
        "outputId": "5180db69-7cb7-4056-e9e9-5ec8ce028633"
      },
      "execution_count": null,
      "outputs": [
        {
          "output_type": "stream",
          "name": "stdout",
          "text": [
            "Cloning into 'optic-nerve-cnn'...\n",
            "remote: Enumerating objects: 7634, done.\u001b[K\n",
            "remote: Counting objects: 100% (3/3), done.\u001b[K\n",
            "remote: Compressing objects: 100% (3/3), done.\u001b[K\n",
            "remote: Total 7634 (delta 0), reused 2 (delta 0), pack-reused 7631\u001b[K\n",
            "Receiving objects: 100% (7634/7634), 706.89 MiB | 32.77 MiB/s, done.\n",
            "Resolving deltas: 100% (3044/3044), done.\n",
            "Checking out files: 100% (7340/7340), done.\n"
          ]
        }
      ]
    },
    {
      "cell_type": "markdown",
      "source": [],
      "metadata": {
        "id": "Jqlegg9ztxuK"
      }
    },
    {
      "cell_type": "code",
      "source": [
        "try:\n",
        "  os.mkdir('/content/optic-nerve-cnn/data/RIM-ONE v3/Glaucoma and suspects/testimages')\n",
        "  os.mkdir('/content/optic-nerve-cnn/data/RIM-ONE v3/Healthy/testimages')\n",
        "except:\n",
        "  print('already exists')"
      ],
      "metadata": {
        "id": "NR-8-rAUjg31"
      },
      "execution_count": null,
      "outputs": []
    },
    {
      "cell_type": "markdown",
      "source": [
        "After the above code execution, we have to add some test images to the folder manually. In the best case 10 images are taken to the test set. "
      ],
      "metadata": {
        "id": "X4OIaId9uuPe"
      }
    },
    {
      "cell_type": "code",
      "source": [
        "path1 = '/content/optic-nerve-cnn/data/RIM-ONE v3/Glaucoma and suspects/Stereo Images/'\n",
        "path2 = '/content/optic-nerve-cnn/data/RIM-ONE v3/Healthy/Stereo Images/'\n",
        "size = 256\n",
        "train_images=[]\n",
        "train_labels = []\n",
        "for image in os.listdir(path1):  \n",
        "  print(os.path.join(path1, image))\n",
        "  label = 'Glaucoma and suspects'\n",
        "  if ('.jpg' in os.path.join(path1, image)):\n",
        "    x_img = cv2.imread(os.path.join(path1, image), cv2.IMREAD_COLOR)  \n",
        "    try:\n",
        "      x_img = x_img[0:1424, 0:1072]\n",
        "      x_img = cv2.resize(x_img, (256, 256))\n",
        "      \n",
        "    except:\n",
        "      x_img = x_img[0:1424, 1072:]\n",
        "      x_img = cv2.resize(x_img, (256, 256))\n",
        "    \n",
        "    x_img = cv2.cvtColor(x_img, cv2.COLOR_RGB2BGR)\n",
        "    train_images.append(x_img)\n",
        "    train_labels.append(label)\n",
        "  else:\n",
        "    print('skipping')\n",
        "\n",
        "for image in os.listdir(path2):  \n",
        "  print(os.path.join(path2, image))\n",
        "  label = 'healthy'\n",
        "  if ('.jpg' in os.path.join(path2, image)):\n",
        "    x_img = cv2.imread(os.path.join(path2, image), cv2.IMREAD_COLOR)    \n",
        "    try:\n",
        "      x_img = x_img[0:1424, 0:1072]\n",
        "      x_img = cv2.resize(x_img, (256, 256))\n",
        "    except:\n",
        "      x_img = x_img[0:1424, 1072:]\n",
        "      x_img = cv2.resize(x_img, (256, 256))\n",
        "\n",
        "    x_img = cv2.cvtColor(x_img, cv2.COLOR_RGB2BGR)\n",
        "    train_images.append(x_img)\n",
        "    train_labels.append(label)\n",
        "  else:\n",
        "    print('skipping')\n",
        "\n",
        "train_images = np.array(train_images)\n",
        "train_labels = np.array(train_labels)"
      ],
      "metadata": {
        "colab": {
          "base_uri": "https://localhost:8080/"
        },
        "id": "dbsrkrSfYxT7",
        "outputId": "fba254dc-1e7e-4f41-c4c0-a30e74b6c16a"
      },
      "execution_count": null,
      "outputs": [
        {
          "output_type": "stream",
          "name": "stdout",
          "text": [
            "/content/optic-nerve-cnn/data/RIM-ONE v3/Glaucoma and suspects/Stereo Images/G-17-L.jpg\n",
            "/content/optic-nerve-cnn/data/RIM-ONE v3/Glaucoma and suspects/Stereo Images/G-29-R.jpg\n",
            "/content/optic-nerve-cnn/data/RIM-ONE v3/Glaucoma and suspects/Stereo Images/S-34-L.jpg\n",
            "/content/optic-nerve-cnn/data/RIM-ONE v3/Glaucoma and suspects/Stereo Images/S-32-L.jpg\n",
            "/content/optic-nerve-cnn/data/RIM-ONE v3/Glaucoma and suspects/Stereo Images/S-7-L.jpg\n",
            "/content/optic-nerve-cnn/data/RIM-ONE v3/Glaucoma and suspects/Stereo Images/G-31-R.jpg\n",
            "/content/optic-nerve-cnn/data/RIM-ONE v3/Glaucoma and suspects/Stereo Images/G-20-L.jpg\n",
            "/content/optic-nerve-cnn/data/RIM-ONE v3/Glaucoma and suspects/Stereo Images/G-33-R.jpg\n",
            "/content/optic-nerve-cnn/data/RIM-ONE v3/Glaucoma and suspects/Stereo Images/S-17-L.jpg\n",
            "/content/optic-nerve-cnn/data/RIM-ONE v3/Glaucoma and suspects/Stereo Images/G-39-L.jpg\n",
            "/content/optic-nerve-cnn/data/RIM-ONE v3/Glaucoma and suspects/Stereo Images/S-1-L.jpg\n",
            "/content/optic-nerve-cnn/data/RIM-ONE v3/Glaucoma and suspects/Stereo Images/S-35-R.jpg\n",
            "/content/optic-nerve-cnn/data/RIM-ONE v3/Glaucoma and suspects/Stereo Images/G-34-L.jpg\n",
            "/content/optic-nerve-cnn/data/RIM-ONE v3/Glaucoma and suspects/Stereo Images/G-9-R.jpg\n",
            "/content/optic-nerve-cnn/data/RIM-ONE v3/Glaucoma and suspects/Stereo Images/G-26-R.jpg\n",
            "/content/optic-nerve-cnn/data/RIM-ONE v3/Glaucoma and suspects/Stereo Images/G-37-R.jpg\n",
            "/content/optic-nerve-cnn/data/RIM-ONE v3/Glaucoma and suspects/Stereo Images/G-11-R.jpg\n",
            "/content/optic-nerve-cnn/data/RIM-ONE v3/Glaucoma and suspects/Stereo Images/G-15-L.jpg\n",
            "/content/optic-nerve-cnn/data/RIM-ONE v3/Glaucoma and suspects/Stereo Images/G-28-L.jpg\n",
            "/content/optic-nerve-cnn/data/RIM-ONE v3/Glaucoma and suspects/Stereo Images/S-16-R.jpg\n",
            "/content/optic-nerve-cnn/data/RIM-ONE v3/Glaucoma and suspects/Stereo Images/G-35-R.jpg\n",
            "/content/optic-nerve-cnn/data/RIM-ONE v3/Glaucoma and suspects/Stereo Images/S-23-L.jpg\n",
            "/content/optic-nerve-cnn/data/RIM-ONE v3/Glaucoma and suspects/Stereo Images/G-7-L.jpg\n",
            "/content/optic-nerve-cnn/data/RIM-ONE v3/Glaucoma and suspects/Stereo Images/G-36-R.jpg\n",
            "/content/optic-nerve-cnn/data/RIM-ONE v3/Glaucoma and suspects/Stereo Images/G-6-L.jpg\n",
            "/content/optic-nerve-cnn/data/RIM-ONE v3/Glaucoma and suspects/Stereo Images/G-2-R.jpg\n",
            "/content/optic-nerve-cnn/data/RIM-ONE v3/Glaucoma and suspects/Stereo Images/S-28-R.jpg\n",
            "/content/optic-nerve-cnn/data/RIM-ONE v3/Glaucoma and suspects/Stereo Images/S-10-R.jpg\n",
            "/content/optic-nerve-cnn/data/RIM-ONE v3/Glaucoma and suspects/Stereo Images/S-19-R.jpg\n",
            "/content/optic-nerve-cnn/data/RIM-ONE v3/Glaucoma and suspects/Stereo Images/S-20-L.jpg\n",
            "/content/optic-nerve-cnn/data/RIM-ONE v3/Glaucoma and suspects/Stereo Images/S-13-R.jpg\n",
            "/content/optic-nerve-cnn/data/RIM-ONE v3/Glaucoma and suspects/Stereo Images/G-10-L.jpg\n",
            "/content/optic-nerve-cnn/data/RIM-ONE v3/Glaucoma and suspects/Stereo Images/G-3-R.jpg\n",
            "/content/optic-nerve-cnn/data/RIM-ONE v3/Glaucoma and suspects/Stereo Images/.ipynb_checkpoints\n",
            "skipping\n",
            "/content/optic-nerve-cnn/data/RIM-ONE v3/Glaucoma and suspects/Stereo Images/G-18-R.jpg\n",
            "/content/optic-nerve-cnn/data/RIM-ONE v3/Glaucoma and suspects/Stereo Images/G-27-R.jpg\n",
            "/content/optic-nerve-cnn/data/RIM-ONE v3/Glaucoma and suspects/Stereo Images/S-8-R.jpg\n",
            "/content/optic-nerve-cnn/data/RIM-ONE v3/Glaucoma and suspects/Stereo Images/G-21-R.jpg\n",
            "/content/optic-nerve-cnn/data/RIM-ONE v3/Glaucoma and suspects/Stereo Images/G-25-L.jpg\n",
            "/content/optic-nerve-cnn/data/RIM-ONE v3/Glaucoma and suspects/Stereo Images/G-4-L.jpg\n",
            "/content/optic-nerve-cnn/data/RIM-ONE v3/Glaucoma and suspects/Stereo Images/G-14-R.jpg\n",
            "/content/optic-nerve-cnn/data/RIM-ONE v3/Glaucoma and suspects/Stereo Images/S-4-L.jpg\n",
            "/content/optic-nerve-cnn/data/RIM-ONE v3/Glaucoma and suspects/Stereo Images/G-16-R.jpg\n",
            "/content/optic-nerve-cnn/data/RIM-ONE v3/Glaucoma and suspects/Stereo Images/G-8-R.jpg\n",
            "/content/optic-nerve-cnn/data/RIM-ONE v3/Glaucoma and suspects/Stereo Images/S-14-R.jpg\n",
            "/content/optic-nerve-cnn/data/RIM-ONE v3/Glaucoma and suspects/Stereo Images/G-1-L.jpg\n",
            "/content/optic-nerve-cnn/data/RIM-ONE v3/Glaucoma and suspects/Stereo Images/G-23-R.jpg\n",
            "/content/optic-nerve-cnn/data/RIM-ONE v3/Glaucoma and suspects/Stereo Images/G-38-L.jpg\n",
            "/content/optic-nerve-cnn/data/RIM-ONE v3/Glaucoma and suspects/Stereo Images/G-24-L.jpg\n",
            "/content/optic-nerve-cnn/data/RIM-ONE v3/Glaucoma and suspects/Stereo Images/G-19-R.jpg\n",
            "/content/optic-nerve-cnn/data/RIM-ONE v3/Glaucoma and suspects/Stereo Images/S-15-L.jpg\n",
            "/content/optic-nerve-cnn/data/RIM-ONE v3/Glaucoma and suspects/Stereo Images/S-11-L.jpg\n",
            "/content/optic-nerve-cnn/data/RIM-ONE v3/Glaucoma and suspects/Stereo Images/G-12-L.jpg\n",
            "/content/optic-nerve-cnn/data/RIM-ONE v3/Glaucoma and suspects/Stereo Images/G-22-L.jpg\n",
            "/content/optic-nerve-cnn/data/RIM-ONE v3/Glaucoma and suspects/Stereo Images/S-6-R.jpg\n",
            "/content/optic-nerve-cnn/data/RIM-ONE v3/Glaucoma and suspects/Stereo Images/G-13-R.jpg\n",
            "/content/optic-nerve-cnn/data/RIM-ONE v3/Glaucoma and suspects/Stereo Images/G-5-R.jpg\n",
            "/content/optic-nerve-cnn/data/RIM-ONE v3/Glaucoma and suspects/Stereo Images/G-30-L.jpg\n",
            "/content/optic-nerve-cnn/data/RIM-ONE v3/Glaucoma and suspects/Stereo Images/S-12-L.jpg\n",
            "/content/optic-nerve-cnn/data/RIM-ONE v3/Glaucoma and suspects/Stereo Images/G-32-L.jpg\n",
            "/content/optic-nerve-cnn/data/RIM-ONE v3/Healthy/Stereo Images/N-1-L.jpg\n",
            "/content/optic-nerve-cnn/data/RIM-ONE v3/Healthy/Stereo Images/N-70-R.jpg\n",
            "/content/optic-nerve-cnn/data/RIM-ONE v3/Healthy/Stereo Images/N-78-R.jpg\n",
            "/content/optic-nerve-cnn/data/RIM-ONE v3/Healthy/Stereo Images/N-71-L.jpg\n",
            "/content/optic-nerve-cnn/data/RIM-ONE v3/Healthy/Stereo Images/N-38-R.jpg\n",
            "/content/optic-nerve-cnn/data/RIM-ONE v3/Healthy/Stereo Images/N-69-L.jpg\n",
            "/content/optic-nerve-cnn/data/RIM-ONE v3/Healthy/Stereo Images/N-59-L.jpg\n",
            "/content/optic-nerve-cnn/data/RIM-ONE v3/Healthy/Stereo Images/N-75-R.jpg\n",
            "/content/optic-nerve-cnn/data/RIM-ONE v3/Healthy/Stereo Images/N-43-L.jpg\n",
            "/content/optic-nerve-cnn/data/RIM-ONE v3/Healthy/Stereo Images/N-22-R.jpg\n",
            "/content/optic-nerve-cnn/data/RIM-ONE v3/Healthy/Stereo Images/N-32-R.jpg\n",
            "/content/optic-nerve-cnn/data/RIM-ONE v3/Healthy/Stereo Images/N-66-R.jpg\n",
            "/content/optic-nerve-cnn/data/RIM-ONE v3/Healthy/Stereo Images/N-46-R.jpg\n",
            "/content/optic-nerve-cnn/data/RIM-ONE v3/Healthy/Stereo Images/N-82-R.jpg\n",
            "/content/optic-nerve-cnn/data/RIM-ONE v3/Healthy/Stereo Images/N-68-R.jpg\n",
            "/content/optic-nerve-cnn/data/RIM-ONE v3/Healthy/Stereo Images/N-56-R.jpg\n",
            "/content/optic-nerve-cnn/data/RIM-ONE v3/Healthy/Stereo Images/N-18-R.jpg\n",
            "/content/optic-nerve-cnn/data/RIM-ONE v3/Healthy/Stereo Images/N-51-L.jpg\n",
            "/content/optic-nerve-cnn/data/RIM-ONE v3/Healthy/Stereo Images/N-37-L.jpg\n",
            "/content/optic-nerve-cnn/data/RIM-ONE v3/Healthy/Stereo Images/N-16-R.jpg\n",
            "/content/optic-nerve-cnn/data/RIM-ONE v3/Healthy/Stereo Images/N-54-R.jpg\n",
            "/content/optic-nerve-cnn/data/RIM-ONE v3/Healthy/Stereo Images/N-64-R.jpg\n",
            "/content/optic-nerve-cnn/data/RIM-ONE v3/Healthy/Stereo Images/N-17-L.jpg\n",
            "/content/optic-nerve-cnn/data/RIM-ONE v3/Healthy/Stereo Images/N-31-L.jpg\n",
            "/content/optic-nerve-cnn/data/RIM-ONE v3/Healthy/Stereo Images/N-26-R.jpg\n",
            "/content/optic-nerve-cnn/data/RIM-ONE v3/Healthy/Stereo Images/N-6-R.jpg\n",
            "/content/optic-nerve-cnn/data/RIM-ONE v3/Healthy/Stereo Images/N-30-R.jpg\n",
            "/content/optic-nerve-cnn/data/RIM-ONE v3/Healthy/Stereo Images/N-34-R.jpg\n",
            "/content/optic-nerve-cnn/data/RIM-ONE v3/Healthy/Stereo Images/N-61-L.jpg\n",
            "/content/optic-nerve-cnn/data/RIM-ONE v3/Healthy/Stereo Images/N-52-R.jpg\n",
            "/content/optic-nerve-cnn/data/RIM-ONE v3/Healthy/Stereo Images/N-42-R.jpg\n",
            "/content/optic-nerve-cnn/data/RIM-ONE v3/Healthy/Stereo Images/N-63-L.jpg\n",
            "/content/optic-nerve-cnn/data/RIM-ONE v3/Healthy/Stereo Images/N-3-L.jpg\n",
            "/content/optic-nerve-cnn/data/RIM-ONE v3/Healthy/Stereo Images/N-40-R.jpg\n",
            "/content/optic-nerve-cnn/data/RIM-ONE v3/Healthy/Stereo Images/N-36-R.jpg\n",
            "/content/optic-nerve-cnn/data/RIM-ONE v3/Healthy/Stereo Images/N-7-L.jpg\n",
            "/content/optic-nerve-cnn/data/RIM-ONE v3/Healthy/Stereo Images/N-81-L.jpg\n",
            "/content/optic-nerve-cnn/data/RIM-ONE v3/Healthy/Stereo Images/N-24-R.jpg\n",
            "/content/optic-nerve-cnn/data/RIM-ONE v3/Healthy/Stereo Images/N-8-L.jpg\n",
            "/content/optic-nerve-cnn/data/RIM-ONE v3/Healthy/Stereo Images/N-5-L.jpg\n",
            "/content/optic-nerve-cnn/data/RIM-ONE v3/Healthy/Stereo Images/N-39-L.jpg\n",
            "/content/optic-nerve-cnn/data/RIM-ONE v3/Healthy/Stereo Images/N-35-L.jpg\n",
            "/content/optic-nerve-cnn/data/RIM-ONE v3/Healthy/Stereo Images/.ipynb_checkpoints\n",
            "skipping\n",
            "/content/optic-nerve-cnn/data/RIM-ONE v3/Healthy/Stereo Images/N-67-L.jpg\n",
            "/content/optic-nerve-cnn/data/RIM-ONE v3/Healthy/Stereo Images/N-58-R.jpg\n",
            "/content/optic-nerve-cnn/data/RIM-ONE v3/Healthy/Stereo Images/N-44-R.jpg\n",
            "/content/optic-nerve-cnn/data/RIM-ONE v3/Healthy/Stereo Images/N-48-R.jpg\n",
            "/content/optic-nerve-cnn/data/RIM-ONE v3/Healthy/Stereo Images/N-28-R.jpg\n",
            "/content/optic-nerve-cnn/data/RIM-ONE v3/Healthy/Stereo Images/N-11-L.jpg\n",
            "/content/optic-nerve-cnn/data/RIM-ONE v3/Healthy/Stereo Images/N-62-R.jpg\n",
            "/content/optic-nerve-cnn/data/RIM-ONE v3/Healthy/Stereo Images/N-50-R.jpg\n",
            "/content/optic-nerve-cnn/data/RIM-ONE v3/Healthy/Stereo Images/N-14-R.jpg\n",
            "/content/optic-nerve-cnn/data/RIM-ONE v3/Healthy/Stereo Images/N-33-L.jpg\n",
            "/content/optic-nerve-cnn/data/RIM-ONE v3/Healthy/Stereo Images/N-49-L.jpg\n",
            "/content/optic-nerve-cnn/data/RIM-ONE v3/Healthy/Stereo Images/N-47-L.jpg\n",
            "/content/optic-nerve-cnn/data/RIM-ONE v3/Healthy/Stereo Images/N-21-L.jpg\n",
            "/content/optic-nerve-cnn/data/RIM-ONE v3/Healthy/Stereo Images/N-23-L.jpg\n",
            "/content/optic-nerve-cnn/data/RIM-ONE v3/Healthy/Stereo Images/N-4-R.jpg\n",
            "/content/optic-nerve-cnn/data/RIM-ONE v3/Healthy/Stereo Images/N-13-L.jpg\n",
            "/content/optic-nerve-cnn/data/RIM-ONE v3/Healthy/Stereo Images/N-9-L.jpg\n",
            "/content/optic-nerve-cnn/data/RIM-ONE v3/Healthy/Stereo Images/N-29-L.jpg\n",
            "/content/optic-nerve-cnn/data/RIM-ONE v3/Healthy/Stereo Images/N-25-L.jpg\n",
            "/content/optic-nerve-cnn/data/RIM-ONE v3/Healthy/Stereo Images/N-2-R.jpg\n",
            "/content/optic-nerve-cnn/data/RIM-ONE v3/Healthy/Stereo Images/N-20-R.jpg\n",
            "/content/optic-nerve-cnn/data/RIM-ONE v3/Healthy/Stereo Images/N-41-L.jpg\n",
            "/content/optic-nerve-cnn/data/RIM-ONE v3/Healthy/Stereo Images/N-65-L.jpg\n",
            "/content/optic-nerve-cnn/data/RIM-ONE v3/Healthy/Stereo Images/N-53-L.jpg\n",
            "/content/optic-nerve-cnn/data/RIM-ONE v3/Healthy/Stereo Images/N-88-R.jpg\n",
            "/content/optic-nerve-cnn/data/RIM-ONE v3/Healthy/Stereo Images/N-27-L.jpg\n",
            "/content/optic-nerve-cnn/data/RIM-ONE v3/Healthy/Stereo Images/N-85-L.jpg\n",
            "/content/optic-nerve-cnn/data/RIM-ONE v3/Healthy/Stereo Images/N-10-R.jpg\n",
            "/content/optic-nerve-cnn/data/RIM-ONE v3/Healthy/Stereo Images/N-12-R.jpg\n",
            "/content/optic-nerve-cnn/data/RIM-ONE v3/Healthy/Stereo Images/N-55-L.jpg\n"
          ]
        }
      ]
    },
    {
      "cell_type": "code",
      "source": [
        "path1 = '/content/optic-nerve-cnn/data/RIM-ONE v3/Glaucoma and suspects/testimages/'\n",
        "path2 = '/content/optic-nerve-cnn/data/RIM-ONE v3/Healthy/testimages/'\n",
        "\n",
        "size = 256\n",
        "test_images=[]\n",
        "test_labels = []\n",
        "for image in os.listdir(path1):  \n",
        "  print(os.path.join(path1, image))\n",
        "  label = 'Glaucoma and suspects'\n",
        "  if ('.jpg' in os.path.join(path1, image)):\n",
        "    x_img = cv2.imread(os.path.join(path1, image), cv2.IMREAD_COLOR)  \n",
        "    try:\n",
        "      x_img = x_img[0:1424, 0:1072]\n",
        "      x_img = cv2.resize(x_img, (256, 256))\n",
        "      \n",
        "    except:\n",
        "      x_img = x_img[0:1424, 1072:]\n",
        "      x_img = cv2.resize(x_img, (256, 256))\n",
        "  else:\n",
        "    print('skipping')\n",
        "\n",
        "  x_img = cv2.cvtColor(x_img, cv2.COLOR_RGB2BGR)\n",
        "  test_images.append(x_img)\n",
        "  test_labels.append(label)\n",
        "\n",
        "for image in os.listdir(path2):  \n",
        "  print(os.path.join(path2, image))\n",
        "  label = 'healthy'\n",
        "  if ('.jpg' in os.path.join(path1, image)):\n",
        "    x_img = cv2.imread(os.path.join(path2, image), cv2.IMREAD_COLOR)  \n",
        "    try:\n",
        "      x_img = x_img[0:1424, 0:1072]\n",
        "      x_img = cv2.resize(x_img, (256, 256))\n",
        "      \n",
        "    except:\n",
        "      x_img = x_img[0:1424, 1072:]\n",
        "      x_img = cv2.resize(x_img, (256, 256))\n",
        "  else:\n",
        "    print('skipping')\n",
        "    \n",
        "  x_img = cv2.cvtColor(x_img, cv2.COLOR_RGB2BGR)    \n",
        "  test_images.append(x_img)\n",
        "  test_labels.append(label)\n",
        "\n",
        "test_images = np.array(test_images)\n",
        "test_labels = np.array(test_labels)\n"
      ],
      "metadata": {
        "colab": {
          "base_uri": "https://localhost:8080/"
        },
        "id": "fQwf_v-zdRI7",
        "outputId": "6ee9d540-19d2-45e8-bbad-4ae237bb6e4e"
      },
      "execution_count": null,
      "outputs": [
        {
          "output_type": "stream",
          "name": "stdout",
          "text": [
            "/content/optic-nerve-cnn/data/RIM-ONE v3/Glaucoma and suspects/testimages/S-27-L.jpg\n",
            "/content/optic-nerve-cnn/data/RIM-ONE v3/Glaucoma and suspects/testimages/S-9-L.jpg\n",
            "/content/optic-nerve-cnn/data/RIM-ONE v3/Glaucoma and suspects/testimages/S-18-L.jpg\n",
            "/content/optic-nerve-cnn/data/RIM-ONE v3/Glaucoma and suspects/testimages/S-2-L.jpg\n",
            "/content/optic-nerve-cnn/data/RIM-ONE v3/Glaucoma and suspects/testimages/S-26-R.jpg\n",
            "/content/optic-nerve-cnn/data/RIM-ONE v3/Glaucoma and suspects/testimages/S-31-L.jpg\n",
            "/content/optic-nerve-cnn/data/RIM-ONE v3/Glaucoma and suspects/testimages/S-33-R.jpg\n",
            "/content/optic-nerve-cnn/data/RIM-ONE v3/Glaucoma and suspects/testimages/S-3-R.jpg\n",
            "/content/optic-nerve-cnn/data/RIM-ONE v3/Glaucoma and suspects/testimages/S-29-R.jpg\n",
            "/content/optic-nerve-cnn/data/RIM-ONE v3/Glaucoma and suspects/testimages/S-5-L.jpg\n",
            "/content/optic-nerve-cnn/data/RIM-ONE v3/Glaucoma and suspects/testimages/S-30-L.jpg\n",
            "/content/optic-nerve-cnn/data/RIM-ONE v3/Glaucoma and suspects/testimages/S-21-R.jpg\n",
            "/content/optic-nerve-cnn/data/RIM-ONE v3/Glaucoma and suspects/testimages/S-22-L.jpg\n",
            "/content/optic-nerve-cnn/data/RIM-ONE v3/Glaucoma and suspects/testimages/S-24-R.jpg\n",
            "/content/optic-nerve-cnn/data/RIM-ONE v3/Glaucoma and suspects/testimages/S-25-L.jpg\n",
            "/content/optic-nerve-cnn/data/RIM-ONE v3/Healthy/testimages/N-87-L.jpg\n",
            "/content/optic-nerve-cnn/data/RIM-ONE v3/Healthy/testimages/N-74-L.jpg\n",
            "/content/optic-nerve-cnn/data/RIM-ONE v3/Healthy/testimages/N-91-L.jpg\n",
            "/content/optic-nerve-cnn/data/RIM-ONE v3/Healthy/testimages/N-73-R.jpg\n",
            "/content/optic-nerve-cnn/data/RIM-ONE v3/Healthy/testimages/N-72-R.jpg\n",
            "/content/optic-nerve-cnn/data/RIM-ONE v3/Healthy/testimages/N-86-R.jpg\n",
            "/content/optic-nerve-cnn/data/RIM-ONE v3/Healthy/testimages/N-92-R.jpg\n",
            "/content/optic-nerve-cnn/data/RIM-ONE v3/Healthy/testimages/N-80-R.jpg\n",
            "/content/optic-nerve-cnn/data/RIM-ONE v3/Healthy/testimages/N-90-R.jpg\n",
            "/content/optic-nerve-cnn/data/RIM-ONE v3/Healthy/testimages/N-79-L.jpg\n",
            "/content/optic-nerve-cnn/data/RIM-ONE v3/Healthy/testimages/N-83-L.jpg\n",
            "/content/optic-nerve-cnn/data/RIM-ONE v3/Healthy/testimages/N-84-R.jpg\n",
            "/content/optic-nerve-cnn/data/RIM-ONE v3/Healthy/testimages/N-76-R.jpg\n"
          ]
        }
      ]
    },
    {
      "cell_type": "code",
      "source": [
        "from sklearn import preprocessing\n",
        "\n",
        "lev_enc = preprocessing.LabelEncoder()\n",
        "\n",
        "#label encoding for the training data\n",
        "lev_enc.fit(train_labels)\n",
        "train_labels_encoded = lev_enc.transform(train_labels)\n",
        "\n",
        "#label encoding for the testing data\n",
        "lev_enc.fit(test_labels)\n",
        "test_labels_encoded = lev_enc.transform(test_labels)\n"
      ],
      "metadata": {
        "id": "WGlRBbZrpo1Q"
      },
      "execution_count": null,
      "outputs": []
    },
    {
      "cell_type": "code",
      "source": [
        "x_train, y_train, x_test, y_test = train_images, train_labels_encoded, test_images, test_labels_encoded #formal splitting of the dataset"
      ],
      "metadata": {
        "id": "NMQ7n6Drp7Rc"
      },
      "execution_count": null,
      "outputs": []
    },
    {
      "cell_type": "code",
      "source": [
        "x_train, x_test = x_train / 255.0, x_test / 255.0 #taking the pixels of the image to normalization\n",
        "\n",
        "from keras.applications.vgg16 import VGG16 \n",
        "\n",
        "VGG_model = VGG16(weights='imagenet', include_top=False, input_shape=(size, size, 3)) #here we are creating a vgg model on the purpose of feature extraction\n"
      ],
      "metadata": {
        "id": "9flCMVTnp_Z-",
        "colab": {
          "base_uri": "https://localhost:8080/"
        },
        "outputId": "bb43250a-f95c-4dfc-f603-3951a183c8c0"
      },
      "execution_count": null,
      "outputs": [
        {
          "output_type": "stream",
          "name": "stdout",
          "text": [
            "Downloading data from https://storage.googleapis.com/tensorflow/keras-applications/vgg16/vgg16_weights_tf_dim_ordering_tf_kernels_notop.h5\n",
            "58892288/58889256 [==============================] - 0s 0us/step\n",
            "58900480/58889256 [==============================] - 0s 0us/step\n"
          ]
        }
      ]
    },
    {
      "cell_type": "code",
      "source": [
        "for layer in VGG_model.layers:\n",
        "\tlayer.trainable = False  #we gave the training layer false, because we dont want to train the data in the VGG16, rather extract the features from the model\n",
        "    \n",
        "VGG_model.summary()"
      ],
      "metadata": {
        "colab": {
          "base_uri": "https://localhost:8080/"
        },
        "id": "k6W31hYUvv3g",
        "outputId": "81594370-e90e-4e90-f8c4-7a93df1e216a"
      },
      "execution_count": null,
      "outputs": [
        {
          "output_type": "stream",
          "name": "stdout",
          "text": [
            "Model: \"vgg16\"\n",
            "_________________________________________________________________\n",
            " Layer (type)                Output Shape              Param #   \n",
            "=================================================================\n",
            " input_1 (InputLayer)        [(None, 256, 256, 3)]     0         \n",
            "                                                                 \n",
            " block1_conv1 (Conv2D)       (None, 256, 256, 64)      1792      \n",
            "                                                                 \n",
            " block1_conv2 (Conv2D)       (None, 256, 256, 64)      36928     \n",
            "                                                                 \n",
            " block1_pool (MaxPooling2D)  (None, 128, 128, 64)      0         \n",
            "                                                                 \n",
            " block2_conv1 (Conv2D)       (None, 128, 128, 128)     73856     \n",
            "                                                                 \n",
            " block2_conv2 (Conv2D)       (None, 128, 128, 128)     147584    \n",
            "                                                                 \n",
            " block2_pool (MaxPooling2D)  (None, 64, 64, 128)       0         \n",
            "                                                                 \n",
            " block3_conv1 (Conv2D)       (None, 64, 64, 256)       295168    \n",
            "                                                                 \n",
            " block3_conv2 (Conv2D)       (None, 64, 64, 256)       590080    \n",
            "                                                                 \n",
            " block3_conv3 (Conv2D)       (None, 64, 64, 256)       590080    \n",
            "                                                                 \n",
            " block3_pool (MaxPooling2D)  (None, 32, 32, 256)       0         \n",
            "                                                                 \n",
            " block4_conv1 (Conv2D)       (None, 32, 32, 512)       1180160   \n",
            "                                                                 \n",
            " block4_conv2 (Conv2D)       (None, 32, 32, 512)       2359808   \n",
            "                                                                 \n",
            " block4_conv3 (Conv2D)       (None, 32, 32, 512)       2359808   \n",
            "                                                                 \n",
            " block4_pool (MaxPooling2D)  (None, 16, 16, 512)       0         \n",
            "                                                                 \n",
            " block5_conv1 (Conv2D)       (None, 16, 16, 512)       2359808   \n",
            "                                                                 \n",
            " block5_conv2 (Conv2D)       (None, 16, 16, 512)       2359808   \n",
            "                                                                 \n",
            " block5_conv3 (Conv2D)       (None, 16, 16, 512)       2359808   \n",
            "                                                                 \n",
            " block5_pool (MaxPooling2D)  (None, 8, 8, 512)         0         \n",
            "                                                                 \n",
            "=================================================================\n",
            "Total params: 14,714,688\n",
            "Trainable params: 0\n",
            "Non-trainable params: 14,714,688\n",
            "_________________________________________________________________\n"
          ]
        }
      ]
    },
    {
      "cell_type": "code",
      "source": [
        "feature_extractor = VGG_model.predict(x_train)\n",
        "\n",
        "features = feature_extractor.reshape(feature_extractor.shape[0], -1)  \n",
        "\n",
        "X_for_training = features # we will feed this X_for_training to the XGB classifier"
      ],
      "metadata": {
        "id": "XtxNujaHwqp4"
      },
      "execution_count": null,
      "outputs": []
    },
    {
      "cell_type": "code",
      "source": [
        "import xgboost as xgb\n",
        "model = xgb.XGBClassifier() #loaded the model\n",
        "model.fit(X_for_training, y_train) #fitted the model\n",
        "\n",
        "\n",
        "X_test_feature = VGG_model.predict(x_test) #we prepare the test data the prev.\n",
        "X_test_features = X_test_feature.reshape(X_test_feature.shape[0], -1)"
      ],
      "metadata": {
        "id": "EEeM88-9wvQR"
      },
      "execution_count": null,
      "outputs": []
    },
    {
      "cell_type": "code",
      "source": [
        "#Now predict using the trained RF model. \n",
        "prediction = model.predict(X_test_features)\n",
        "\n",
        "#Inverse le transform to get original label back. \n",
        "prediction = lev_enc.inverse_transform(prediction)"
      ],
      "metadata": {
        "id": "kkfW_vCQAwva"
      },
      "execution_count": null,
      "outputs": []
    },
    {
      "cell_type": "code",
      "source": [
        "from sklearn.metrics import confusion_matrix\n",
        "from sklearn.metrics import accuracy_score\n",
        "\n",
        "cm = confusion_matrix(test_labels, prediction)\n",
        "score = accuracy_score(test_labels, prediction)\n",
        "\n",
        "sns.heatmap(cm, annot=True)\n",
        "\n",
        "n=np.random.randint(0, x_test.shape[0])\n",
        "img = x_test[n]\n",
        "plt.imshow(img)\n",
        "input_img = np.expand_dims(img, axis=0)\n",
        "input_img_feature=VGG_model.predict(input_img)\n",
        "input_img_features=input_img_feature.reshape(input_img_feature.shape[0], -1)\n",
        "prediction = model.predict(input_img_features)[0] \n",
        "prediction = lev_enc.inverse_transform([prediction])\n",
        "print(\"The prediction for this image is: \", prediction)\n",
        "print(\"The actual label for this image is: \", test_labels[n])\n",
        "print('The Accuracy: %.3f' % score)"
      ],
      "metadata": {
        "id": "o9wSbRho8293"
      },
      "execution_count": null,
      "outputs": []
    },
    {
      "cell_type": "code",
      "source": [
        "n=np.random.randint(0, x_test.shape[0])\n",
        "img = x_test[n]\n",
        "plt.imshow(img)\n",
        "input_img = np.expand_dims(img, axis=0) #Expand dims so the input is (num images, x, y, c)\n",
        "input_img_feature=VGG_model.predict(input_img)\n",
        "input_img_features=input_img_feature.reshape(input_img_feature.shape[0], -1)\n",
        "prediction = model.predict(input_img_features)[0] \n",
        "prediction = lev_enc.inverse_transform([prediction])  #Reverse the label encoder to original name\n",
        "print(\"The prediction for this image is: \", prediction)\n",
        "print(\"The actual label for this image is: \", test_labels[n])\n",
        "print('accuracy: ', score)"
      ],
      "metadata": {
        "id": "djYMtk7bXeC5"
      },
      "execution_count": null,
      "outputs": []
    }
  ]
}